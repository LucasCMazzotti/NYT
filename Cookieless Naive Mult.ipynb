{
 "cells": [
  {
   "cell_type": "code",
   "execution_count": 1,
   "id": "56ed9a11-5e5b-49eb-b4e3-98b5b2a8503f",
   "metadata": {},
   "outputs": [],
   "source": [
    "#data stuff\n",
    "import time\n",
    "import pandas as pd\n",
    "import numpy as np\n",
    "import datetime as dt\n",
    "\n",
    "#regression stuff\n",
    "from sklearn.linear_model import LinearRegression\n",
    "from sklearn.model_selection import train_test_split\n",
    "from sklearn.preprocessing import MinMaxScaler, StandardScaler\n",
    "from sklearn.metrics import mean_squared_error, r2_score\n",
    "import statsmodels.api as sm\n",
    "\n",
    "#graph stuff\n",
    "import seaborn as sns\n",
    "from plotly.subplots import make_subplots\n",
    "from plotly import graph_objects as go\n",
    "import plotly\n",
    "import matplotlib.pyplot as plt\n",
    "\n",
    "%matplotlib inline\n",
    "pd.set_option('display.max_columns', 500)\n",
    "pd.options.mode.chained_assignment = None  # default='warn'\n",
    "\n",
    "\n",
    "#import functions from other file that we want\n",
    "from utilities import *"
   ]
  },
  {
   "cell_type": "markdown",
   "id": "c54f6751-a8bb-433b-a4b4-79b447b4a63c",
   "metadata": {
    "tags": []
   },
   "source": [
    "# 0.1 Read in data"
   ]
  },
  {
   "cell_type": "code",
   "execution_count": null,
   "id": "2f8712f2-de42-408d-9b35-2497cf429a83",
   "metadata": {},
   "outputs": [],
   "source": [
    "#read in clickthru data from vw dataset\n",
    "q = '''SELECT \n",
    "     account\n",
    "    , attr_window\n",
    "    , campaign\n",
    "    , _match\n",
    "    , campaign_objective\n",
    "    , Year\n",
    "    , Quarter\n",
    "    , Month\n",
    "    , week\n",
    "    , week_start\n",
    "    , date\n",
    "    , marketing_initiative\n",
    "    , marketing_segment\n",
    "    , marketing_subinitiative\n",
    "    , channel\n",
    "    , platform\n",
    "    , site\n",
    "    , sum(case when sor_prod = 'All (Core All, NPV)' then spend else 0 end) spend\n",
    "    , sum(case when sor_prod = 'All (Core All, NPV)' then clicks else 0 end) clicks\n",
    "    , sum(case when sor_prod = 'All (Core All, NPV)' then impressions else 0 end) impressions\n",
    "    , sum(case\n",
    "            when sor_prod = 'Core' then conversions else null end) digi_ada_conversions\n",
    "    , sum(case\n",
    "            when sor_prod = 'Crosswords' then conversions else null end) games_conversions\n",
    "    , sum(case\n",
    "            when sor_prod = 'EDU' then conversions else null end) edu_conversions\n",
    "    , sum(case\n",
    "            when sor_prod = 'Home Delivery' then conversions else null end) hd_conversions\n",
    "    , sum(case\n",
    "            when sor_prod = 'CK' then conversions else null end) ck_conversions     \n",
    "    , sum(case\n",
    "            when sor_prod = 'Core All (Core, HD, EDU)' then conversions else null end) core_conversions\n",
    "    , sum(case\n",
    "            when sor_prod = 'All (Core All, NPV)' then conversions else null end) all_conversions\n",
    "FROM `nyt-mkt-prd.paid_media_data.placement_daily_vw`\n",
    "WHERE date >= '2020-01-01' and attr_window in('Media Reported - Click Thru')\n",
    "group by 1, 2, 3, 4, 5, 6, 7, 8, 9, 10, 11,12,13,14,15,16,17\n",
    "order by date, campaign, _match\n",
    "    '''\n",
    "start_time = time.time() \n",
    "\n",
    "clickthru_df = pd.read_gbq(q,\n",
    "                 project_id ='nyt-bigquery-beta-workspace',\n",
    "                 dialect='standard')\n",
    "\n",
    "print(f'time took: {str(round(time.time() - start_time, 2))}')"
   ]
  },
  {
   "cell_type": "code",
   "execution_count": null,
   "id": "1d127829-a6e7-4e89-82c5-d7feaafec7e9",
   "metadata": {},
   "outputs": [],
   "source": [
    "clickthru_df.head()"
   ]
  },
  {
   "cell_type": "code",
   "execution_count": null,
   "id": "e16dcb92-1d65-4b88-818f-c2578795f5c1",
   "metadata": {},
   "outputs": [],
   "source": [
    "#read in viewthru data from vw dataset\n",
    "q = '''SELECT \n",
    "     account\n",
    "    , attr_window\n",
    "    , campaign\n",
    "    , _match\n",
    "    , campaign_objective\n",
    "    , Year\n",
    "    , Quarter\n",
    "    , Month\n",
    "    , week\n",
    "    , week_start\n",
    "    , date\n",
    "    , marketing_initiative\n",
    "    , marketing_segment\n",
    "    , marketing_subinitiative\n",
    "    , channel\n",
    "    , platform\n",
    "    , site\n",
    "    , sum(case when sor_prod = 'All (Core All, NPV)' then spend else 0 end) spend\n",
    "    , sum(case when sor_prod = 'All (Core All, NPV)' then clicks else 0 end) clicks\n",
    "    , sum(case when sor_prod = 'All (Core All, NPV)' then impressions else 0 end) impressions\n",
    "    , sum(case\n",
    "            when sor_prod = 'Core' then conversions else null end) digi_ada_conversions\n",
    "    , sum(case\n",
    "            when sor_prod = 'Crosswords' then conversions else null end) games_conversions\n",
    "    , sum(case\n",
    "            when sor_prod = 'EDU' then conversions else null end) edu_conversions\n",
    "    , sum(case\n",
    "            when sor_prod = 'Home Delivery' then conversions else null end) hd_conversions\n",
    "    , sum(case\n",
    "            when sor_prod = 'CK' then conversions else null end) ck_conversions     \n",
    "    , sum(case\n",
    "            when sor_prod = 'Core All (Core, HD, EDU)' then conversions else null end) core_conversions\n",
    "    , sum(case\n",
    "            when sor_prod = 'All (Core All, NPV)' then conversions else null end) all_conversions\n",
    "FROM `nyt-mkt-prd.paid_media_data.placement_daily_vw`\n",
    "WHERE date >= '2020-01-01' and attr_window in('Media Reported - View Thru')\n",
    "group by 1, 2, 3, 4, 5, 6, 7, 8, 9, 10, 11,12,13,14,15,16,17\n",
    "order by date, campaign, _match\n",
    "    '''\n",
    "start_time = time.time() \n",
    "\n",
    "viewthru_df = pd.read_gbq(q,\n",
    "                 project_id ='nyt-bigquery-beta-workspace',\n",
    "                 dialect='standard')\n",
    "\n",
    "print(f'time took: {str(round(time.time() - start_time, 2))}')"
   ]
  },
  {
   "cell_type": "code",
   "execution_count": null,
   "id": "c7afd04b-d5c0-408b-b9a0-ecba218ef452",
   "metadata": {},
   "outputs": [],
   "source": [
    "#rename columns in the separate dataframes to identify clickthru and viewthru\n",
    "#first clickthru\n",
    "for col in clickthru_df.columns:\n",
    "    if 'conversions' in col: \n",
    "        clickthru_df[col+'_ct'] = clickthru_df[col]\n",
    "        clickthru_df.drop(col, axis=1, inplace=True)\n",
    "        \n",
    "#now viewthru\n",
    "for col in viewthru_df.columns:\n",
    "    if 'conversions' in col: \n",
    "        viewthru_df[col+'_vt'] = viewthru_df[col]\n",
    "        viewthru_df.drop(col, axis=1, inplace=True)"
   ]
  },
  {
   "cell_type": "code",
   "execution_count": null,
   "id": "afb070dd-a167-4e7e-9f09-2bd7367275aa",
   "metadata": {},
   "outputs": [],
   "source": [
    "#now merge the dataframes \n",
    "#create a truncated version of viewthru DF to make the merge more efficient\n",
    "vt_merge = viewthru_df[['account','campaign','_match','date','marketing_initiative','marketing_segment'] + [col for col in viewthru_df.columns if 'conversions' in col]]\n",
    "\n",
    "#merge with clickthru df\n",
    "df = clickthru_df.merge(vt_merge, how='left', on=[col for col in vt_merge.columns if 'conversions' not in col])"
   ]
  },
  {
   "cell_type": "code",
   "execution_count": null,
   "id": "c73a7094-bead-43e8-b0c7-53e8cd3f4aaa",
   "metadata": {
    "tags": []
   },
   "outputs": [],
   "source": [
    "df.shape"
   ]
  },
  {
   "cell_type": "code",
   "execution_count": null,
   "id": "5544f0fb-d29a-4daa-87c8-004c3dbd50a2",
   "metadata": {},
   "outputs": [],
   "source": [
    "# check to make sure merge worked properly\n",
    "df[df.duplicated()]"
   ]
  },
  {
   "cell_type": "markdown",
   "id": "a3d946a2-b771-4520-b2f5-28cdd7efb490",
   "metadata": {},
   "source": [
    "# 0.2 Data Cleaning"
   ]
  },
  {
   "cell_type": "markdown",
   "id": "2160a659-206d-4a36-a9f1-124419332924",
   "metadata": {},
   "source": [
    "## Data Removal"
   ]
  },
  {
   "cell_type": "code",
   "execution_count": null,
   "id": "747810d5-0277-4694-8bc6-c51637c1c25f",
   "metadata": {},
   "outputs": [],
   "source": [
    "#exclude Paid Search \n",
    "df = df.loc[df['channel'] != 'Paid Search']"
   ]
  },
  {
   "cell_type": "code",
   "execution_count": null,
   "id": "a2c1bfcb-9f24-440b-996e-917ab4bf4719",
   "metadata": {},
   "outputs": [],
   "source": [
    "#exclude Brand, Branding, Retention, App Download, and App Install initatives bc not relevant to Chrome cookie loss\n",
    "df = df[~df['marketing_initiative'].isin(['Brand','Branding','Retention','App Download', 'App-Install'])]"
   ]
  },
  {
   "cell_type": "code",
   "execution_count": null,
   "id": "c0e66eb7-0d24-49f4-9ee0-62f8cd2eeefe",
   "metadata": {},
   "outputs": [],
   "source": [
    "#exclude where spend = 0 but impressions, clicks, or conversions are not equal to 0\n",
    "bad_spend_df = df.loc[(df['spend'] == 0) & \n",
    "                    (\n",
    "                        (df['impressions'] != 0) |\n",
    "                        (df['clicks'] != 0) |\n",
    "                        (df['all_conversions_vt'] != 0) | \n",
    "                        (df['all_conversions_ct'] != 0)\n",
    "                        \n",
    "                    )]\n",
    "df = pd.concat([df,bad_spend_df]).drop_duplicates(keep=False)"
   ]
  },
  {
   "cell_type": "markdown",
   "id": "2608665a-d87e-4179-a5bb-08d801974a1e",
   "metadata": {},
   "source": [
    "## Impute X-UNKNOWN-X"
   ]
  },
  {
   "cell_type": "code",
   "execution_count": null,
   "id": "efb17da8-9f25-4c7f-96fe-07588ed32a0c",
   "metadata": {},
   "outputs": [],
   "source": [
    "#replace all NaNs to 0 \n",
    "df = df.fillna(0)"
   ]
  },
  {
   "cell_type": "code",
   "execution_count": null,
   "id": "0cc41226-8076-41fa-b8da-256598e5e932",
   "metadata": {},
   "outputs": [],
   "source": [
    "#some Twigeo campaigns don't get recognized as Games campaigns in PMD, manually correct those\n",
    "df.loc[(df['marketing_subinitiative'] == 'X-UNKNOWN-X') & \n",
    "       (\n",
    "          (df['campaign'].str.contains('game')) | \n",
    "          (df['campaign'].str.contains('xwd')) | \n",
    "          (df['campaign'].str.contains('cross'))\n",
    "       ), 'marketing_subinitiative'] = 'Games (former: Crosswords)'"
   ]
  },
  {
   "cell_type": "markdown",
   "id": "7bf89969-a6eb-4608-9c60-080e0f832740",
   "metadata": {},
   "source": [
    "## Low-Volume Grouping"
   ]
  },
  {
   "cell_type": "code",
   "execution_count": null,
   "id": "243a4557-8cc6-4d7d-83ca-b2cb527211dd",
   "metadata": {},
   "outputs": [],
   "source": [
    "#group low-volume channels \n",
    "df['new_channel'] = df['channel']\n",
    "df.loc[~df['channel'].isin(['Social','Display','Paid Search','Native']), 'new_channel'] = 'Low-Volume Channels'"
   ]
  },
  {
   "cell_type": "code",
   "execution_count": null,
   "id": "596345a4-7a5e-4994-bec4-72bb0295deda",
   "metadata": {},
   "outputs": [],
   "source": [
    "#group low-volume sites\n",
    "df['new_site'] = df['site']\n",
    "df.loc[~df['site'].isin(['The Trade Desk','DBM_US','Snap','Facebook','Twitter','Google AdWords (DSA)','Bing Ads', 'Google AdWords']), 'new_site'] = 'Low-Volume Sites'"
   ]
  },
  {
   "cell_type": "code",
   "execution_count": null,
   "id": "a52ce4cb-421d-430e-95cc-c045c26e2970",
   "metadata": {},
   "outputs": [],
   "source": [
    "#group low-volume products\n",
    "df['new_product'] = df['marketing_subinitiative']\n",
    "df.loc[~df['marketing_subinitiative'].isin(['Home Delivery','Core','Games','Cooking']), 'new_product'] = 'Low-Volume Products'"
   ]
  },
  {
   "cell_type": "code",
   "execution_count": null,
   "id": "e15847c6-40aa-44c9-b834-3467559c2616",
   "metadata": {},
   "outputs": [],
   "source": [
    "#check to see if the above groupings work\n",
    "df['channel'].value_counts()\n",
    "df['new_channel'].value_counts()\n",
    "df['site'].value_counts()\n",
    "df['new_site'].value_counts()\n",
    "df['marketing_subinitiative'].value_counts()\n",
    "df['new_product'].value_counts()"
   ]
  },
  {
   "cell_type": "markdown",
   "id": "0855244a-6fd3-4104-8782-10d9028b9a7a",
   "metadata": {},
   "source": [
    "## Adding, Dropping, and Renaming Columns"
   ]
  },
  {
   "cell_type": "code",
   "execution_count": null,
   "id": "a43c9f58-212f-47b9-a5c9-06f04f0c1744",
   "metadata": {},
   "outputs": [],
   "source": [
    "#group dates by bigger cols using the dt module \n",
    "#apply() -> so it reads better in graphs \n",
    "\n",
    "#create date-based aggregation columns for easier grouping\n",
    "df['year_month_cal'] = df['date'].dt.to_period('M').apply(lambda r: r.start_time)\n",
    "df['year_week_monday'] = df['date'].dt.to_period('W').apply(lambda r: r.start_time)\n",
    "df['year_quarter'] = df['date'].dt.to_period('Q').apply(lambda r: r.start_time)"
   ]
  },
  {
   "cell_type": "code",
   "execution_count": null,
   "id": "cde0ea19-abcf-49e1-9b57-74ce6ec9f0bb",
   "metadata": {},
   "outputs": [],
   "source": [
    "#create a composite channel-marketing-initiative column for easier grouping by combos of channel and marketing_initiative \n",
    "df['channel_mkt_init'] = df['channel'] + \" - \" + df['marketing_initiative']"
   ]
  },
  {
   "cell_type": "code",
   "execution_count": null,
   "id": "ae311155-acdc-4acf-9f7d-02fe419c8d1c",
   "metadata": {},
   "outputs": [],
   "source": [
    "#get rid of attr_window (bc it isn't needed anymore just says click thru)\n",
    "df = df.drop(['attr_window'], axis=1)"
   ]
  },
  {
   "cell_type": "code",
   "execution_count": null,
   "id": "c38883a4-abea-46d2-ae73-4394b8d09377",
   "metadata": {},
   "outputs": [],
   "source": [
    "#add total conversions column\n",
    "df['total_conversions'] = df['all_conversions_ct'] + df['all_conversions_vt']"
   ]
  },
  {
   "cell_type": "markdown",
   "id": "24928dbe-3515-4fbc-872d-aa9d8e9088d9",
   "metadata": {},
   "source": [
    "# 0.3 Create Dataframes Split By Channel"
   ]
  },
  {
   "cell_type": "code",
   "execution_count": null,
   "id": "e964ae0d-68a2-422e-9e86-6f0ebb4be239",
   "metadata": {},
   "outputs": [],
   "source": [
    "df['new_channel'].value_counts()"
   ]
  },
  {
   "cell_type": "code",
   "execution_count": null,
   "id": "78ece613-c620-4263-8aa9-13296bd9b4c7",
   "metadata": {},
   "outputs": [],
   "source": [
    "df_low_volume = df[df['new_channel'] == 'Low-Volume Channels']\n",
    "df_low_volume.shape"
   ]
  },
  {
   "cell_type": "code",
   "execution_count": null,
   "id": "56e94f00-bcd9-465e-b60b-3561c86a6d96",
   "metadata": {},
   "outputs": [],
   "source": [
    "df_display = df[df['channel'] == 'Display']\n",
    "df_display.shape"
   ]
  },
  {
   "cell_type": "code",
   "execution_count": null,
   "id": "f7f28d27-d58e-4db2-8c91-99c38c8b7bbb",
   "metadata": {},
   "outputs": [],
   "source": [
    "df_native = df[df['channel'] == 'Native']\n",
    "df_native.shape"
   ]
  },
  {
   "cell_type": "code",
   "execution_count": null,
   "id": "01059d57-7c93-4bac-a1e2-8eaa8a497b4e",
   "metadata": {},
   "outputs": [],
   "source": [
    "df_display_native = df[(df['channel'] == 'Display') | (df['channel'] == 'Native')]\n",
    "df_display_native.shape"
   ]
  },
  {
   "cell_type": "code",
   "execution_count": null,
   "id": "403c5f4f-d8f9-4a8c-860d-c4d986da174c",
   "metadata": {},
   "outputs": [],
   "source": [
    "df_social = df[df['channel'] == 'Social']\n",
    "df_social.shape"
   ]
  },
  {
   "cell_type": "code",
   "execution_count": null,
   "id": "e7e525d0-832c-4ea9-a129-41bcb0b7d8b5",
   "metadata": {},
   "outputs": [],
   "source": [
    "df_social['site'].value_counts()"
   ]
  },
  {
   "cell_type": "code",
   "execution_count": null,
   "id": "9a757fa5-35c1-4102-8767-45f682bb67e7",
   "metadata": {},
   "outputs": [],
   "source": [
    "df_fb = df_social[df_social['site'] == 'Facebook']\n",
    "df_fb.shape"
   ]
  },
  {
   "cell_type": "code",
   "execution_count": null,
   "id": "8b304df3-7e54-4ed8-a884-6e903139b7fa",
   "metadata": {},
   "outputs": [],
   "source": [
    "df_snap = df_social[df_social['site'] == 'Snap']\n",
    "df_snap.shape"
   ]
  },
  {
   "cell_type": "code",
   "execution_count": null,
   "id": "fa01619e-a5c1-4283-a7a0-216e2d7be174",
   "metadata": {},
   "outputs": [],
   "source": [
    "df_twitter= df_social[df_social['site'] == 'Twitter']\n",
    "df_twitter.shape"
   ]
  },
  {
   "cell_type": "markdown",
   "id": "3020722f-781c-4de6-9694-b858180e6175",
   "metadata": {},
   "source": [
    "# 1. Functions"
   ]
  },
  {
   "cell_type": "markdown",
   "id": "f53c02ae-3186-4315-b9f9-cfdc648a7bde",
   "metadata": {},
   "source": [
    "## 1.1 Removal Functions"
   ]
  },
  {
   "cell_type": "code",
   "execution_count": null,
   "id": "82fe4388-857c-4ba1-a9a0-c29c905f62a3",
   "metadata": {},
   "outputs": [],
   "source": [
    "#returns df with outliers, low-vol channels, sites, and products removed\n",
    "# pretty much don't need -> move elsewhere \n",
    "\n",
    "#impact of removals: \n",
    "\n",
    "#if ALL (outliers, paid search, all 3 low vol) removed, then the df is cut in more than half (832638 -> 374316)\n",
    "#Outliers (702,551)\n",
    "#Paid Search (657,082)\n",
    "#Total Conversions = 0 (613,001)\n",
    "#Low-volume channels (772,840)\n",
    "#low-volume sites (831,519)\n",
    "#low-volume products (754,941)\n",
    "#all 3 low-volume (733,921)\n",
    "\n",
    "# some of it move to the top and remove once -> Paid Search\n",
    "# channels where there is 0 spend -> remove it for each specific dataframe \n",
    "\n",
    "def removal(df):\n",
    "    #remove_outliers\n",
    "    df_spend = df\n",
    "    q1, q3 = np.percentile(df_spend['spend'], [25, 75])\n",
    "    iqr = q3 - q1\n",
    "    lower_bound = q1 - (iqr * 1.5)\n",
    "    upper_bound = q3 + (iqr * 1.5)\n",
    "    df_outliers_remov= df[df['spend'] > lower_bound][df['spend'] < upper_bound] \n",
    "\n",
    "    # df_spend['spend'].describe(percentile = )\n",
    "    \n",
    "    #remove Paid Search\n",
    "    df_paid_search_remov = df_outliers_remov.loc[df['channel'] != 'Paid Search']\n",
    "    \n",
    "#     #remove low-volume channels\n",
    "#     df_high_vol_channel = df_paid_search_remov.loc[df['new_channel'] != 'Low-Volume Channels']\n",
    "    \n",
    "#     #remove low-volume sites\n",
    "#     df_high_vol_sites = df_high_vol_channel.loc[df['new_site'] != 'Low-Volume Sites']\n",
    "    \n",
    "#     #remove low-volume products\n",
    "#     df_high_vol_products = df_high_vol_sites.loc[df['new_product'] != 'Low-Volume Products']\n",
    "    \n",
    "    #remove any June 2020 for Native -> infinity (spend = 0)\n",
    "    df_remov_native_zero = df_high_vol_products.loc[~((df['year_month_cal'] == '2020-06-01') & \n",
    "                                             (df['channel'] == 'Native'))]\n",
    "    \n",
    "    #remove any June 2020 for Twitter -> infinity (spend = 0)\n",
    "    df_remov_twitter_zero = df_remov_native_zero.loc[~((df['year_month_cal'] == '2020-06-01') & \n",
    "                                             (df['channel'] == 'Social') &\n",
    "                                             (df['site'] == 'Twitter'))]\n",
    "    #remove total conversions = 0 \n",
    "    df_final_remov = df_remov_twitter_zero.loc[df['total_conversions'] == 0]\n",
    "    \n",
    "    return df_final_remov"
   ]
  },
  {
   "cell_type": "markdown",
   "id": "4f44ea9c-6c91-41db-9907-0bf8d6314bb2",
   "metadata": {},
   "source": [
    "## 1.2 Multiplier Functions"
   ]
  },
  {
   "cell_type": "code",
   "execution_count": null,
   "id": "7d68487e-4d4d-4bb5-af6c-ba4cb4edef56",
   "metadata": {},
   "outputs": [],
   "source": [
    "#returns a df with the multiplier \n",
    "#more arguments -> training start, training end (date range to calculate multiplier)\n",
    "\n",
    "def df_multiplier(df):\n",
    "    df_copy = df\n",
    "   # df_copy= dfc['sliced on the arg above']\n",
    "    \n",
    "    \n",
    "    #drop cols you don't want in solution attempt -> maybe don't need to drop them \n",
    "#     df_copy = df_copy.drop(['account','campaign','_match','campaign_objective','Month','Quarter','week','week_start','date','marketing_initiative',\n",
    "#               'marketing_segment','platform',\n",
    "#              'digi_ada_conversions_ct','games_conversions_ct','edu_conversions_ct','hd_conversions_ct','ck_conversions_ct','core_conversions_ct',\n",
    "#              'digi_ada_conversions_vt','games_conversions_vt','edu_conversions_vt','hd_conversions_vt','ck_conversions_vt','core_conversions_vt',\n",
    "#              'year_week_monday','channel_mkt_init','new_channel','new_site','new_product'], axis=1)\n",
    "#    df_copy.reset_index(inplace = True)\n",
    "    \n",
    "    #anywhere where year_month_cal -> substitute for time granularity variable (column to be grouped by -> date, week, month)\n",
    "    \n",
    "    #group by channel, month, year\n",
    "    df_copy = df_copy.groupby(['year_month_cal']).sum()\n",
    "    \n",
    "    #create vt percentage column -> change name \n",
    "    df_copy['avg_monthly_vt_pctg'] = df_copy['all_conversions_vt'] / df_copy['total_conversions']\n",
    "    \n",
    "    #create ct percentage column\n",
    "    df_copy['avg_monthly_ct_pctg'] = df_copy['all_conversions_ct'] / df_copy['total_conversions']\n",
    "    \n",
    "    #fix the nulls in vt pctg col\n",
    "    df_copy.loc[(df_copy['total_conversions'] == 0), 'avg_monthly_vt_pctg'] = 0\n",
    "    \n",
    "    #fix the nulls in ct pctg col\n",
    "    df_copy.loc[(df_copy['total_conversions'] == 0), 'avg_monthly_ct_pctg'] = 0\n",
    "    \n",
    "    #create overall ct column\n",
    "    df_copy['overall_avg_ct_pctg'] = df_copy['avg_monthly_ct_pctg'].mean()\n",
    "    \n",
    "    #create individual multiplier for each row\n",
    "    df_copy['indiv_multiplier'] = (1 - df_copy['avg_monthly_ct_pctg'])/df_copy['avg_monthly_ct_pctg']\n",
    "    \n",
    "    #create average multiplier over all rows \n",
    "    df_copy['avg_multiplier'] = df_copy['indiv_multiplier'].mean()\n",
    "    \n",
    "#if any multipliers are 0 -> manually change to 1 (we'll still get 0 -> 0/1)\n",
    "    \n",
    "    return df_copy,df_copy['indiv_multiplier'].mean()\n",
    "#index 0 -> gives you first return item, 1 gives you second return item"
   ]
  },
  {
   "cell_type": "markdown",
   "id": "c2904817-536c-4dff-a5c4-a551cf297d51",
   "metadata": {},
   "source": [
    "## Eval Error Function"
   ]
  },
  {
   "cell_type": "code",
   "execution_count": null,
   "id": "b01f56e5-4fe0-4e34-a723-be3d75fc1f35",
   "metadata": {},
   "outputs": [],
   "source": [
    "def eval_error(df):\n",
    "    #create sample column \n",
    "    \n",
    "    #give two dataframes -> first is overall, second is dataframe that's output of previous function \n",
    "    #calculate out samp based on difference bw df1 and ^that df\n",
    "    \n",
    "    df_copy = df\n",
    "    df_copy['sample'] = 'in samp'\n",
    "    df_copy['sample'].loc[df['Year'] == 2021] = 'out samp'\n",
    "    \n",
    "    #get rid of this\n",
    "    #run removal function\n",
    "    df_removed = removal(df_copy)\n",
    "    df_in_samp = df_removed.loc[df_removed['sample'] == 'in samp']\n",
    "    df_out_samp = df_removed.loc[df_removed['sample'] == 'out samp']\n",
    "    \n",
    "    #get multiplier\n",
    "    mult = actual_multiplier(df_in_samp)\n",
    "    \n",
    "    df_out_samp['projected'] = df_out_samp['all_conversions_ct'] * mult\n",
    "    df_out_samp['abs_error'] = abs(df_out_samp['projected'] - df_out_samp['all_conversions_vt'])\n",
    "    df_out_samp['abs_error_pctg'] = df_out_samp['abs_error']/ df_out_samp['all_conversions_vt']\n",
    "    return df_out_samp.sort_values(by= ['abs_error_pctg'])"
   ]
  },
  {
   "cell_type": "code",
   "execution_count": null,
   "id": "41d5c92d-5762-4997-a750-eb83c65def8d",
   "metadata": {},
   "outputs": [],
   "source": [
    "# almost half of them are null\n",
    "df_social_test = df_social\n",
    "df_social_error = eval_error(df_social_test)\n",
    "df_social_error.shape"
   ]
  },
  {
   "cell_type": "code",
   "execution_count": null,
   "id": "6d11ee72-6900-46b4-a144-2957fc85c983",
   "metadata": {},
   "outputs": [],
   "source": [
    "df_social_error['abs_error_pctg'].notnull().sum()"
   ]
  },
  {
   "cell_type": "code",
   "execution_count": null,
   "id": "96160280-5da5-4ccd-baf9-1a681cf2d0c0",
   "metadata": {},
   "outputs": [],
   "source": [
    "df_social_error"
   ]
  },
  {
   "cell_type": "markdown",
   "id": "de40b478-1dee-4ddb-bc9f-e466ce87924e",
   "metadata": {},
   "source": [
    "# Calculating Multipliers (Split by Channel, Aggregated by Month)"
   ]
  },
  {
   "cell_type": "markdown",
   "id": "4c4a1426-907a-49e1-99ed-38335eff7635",
   "metadata": {},
   "source": [
    "## Display Multiplier -> 153.30"
   ]
  },
  {
   "cell_type": "code",
   "execution_count": null,
   "id": "75aee263-1599-42f4-877f-efb0f2e754e2",
   "metadata": {},
   "outputs": [],
   "source": [
    "#remove junk\n",
    "df_display_removed = removal(df_display)"
   ]
  },
  {
   "cell_type": "code",
   "execution_count": null,
   "id": "7b0834de-786c-4f96-8e18-219685a838a2",
   "metadata": {},
   "outputs": [],
   "source": [
    "df_display.shape"
   ]
  },
  {
   "cell_type": "code",
   "execution_count": null,
   "id": "156a8ae7-32b8-4e30-a2a1-bfed5314bf4e",
   "metadata": {},
   "outputs": [],
   "source": [
    "df_display_removed.shape"
   ]
  },
  {
   "cell_type": "code",
   "execution_count": null,
   "id": "34917a40-d611-4031-984d-f9d352da0915",
   "metadata": {},
   "outputs": [],
   "source": [
    "actual_multiplier(df_display_removed)"
   ]
  },
  {
   "cell_type": "code",
   "execution_count": null,
   "id": "714cca7a-8614-43ff-93ab-bcb64a16466b",
   "metadata": {},
   "outputs": [],
   "source": [
    "df_multiplier(df_display_removed)"
   ]
  },
  {
   "cell_type": "markdown",
   "id": "a577fc34-e7d7-4572-8087-d0605d0ed697",
   "metadata": {},
   "source": [
    "## Native Multiplier "
   ]
  },
  {
   "cell_type": "code",
   "execution_count": null,
   "id": "faf75d26-6ee0-48a5-b04a-eb0af96837e1",
   "metadata": {},
   "outputs": [],
   "source": [
    "#remove junk\n",
    "df_native_removed = removal(df_native)"
   ]
  },
  {
   "cell_type": "code",
   "execution_count": null,
   "id": "8ca4f01e-f72b-4453-9c62-8a9d253f2f9b",
   "metadata": {},
   "outputs": [],
   "source": [
    "df_native.shape"
   ]
  },
  {
   "cell_type": "code",
   "execution_count": null,
   "id": "81b8c27f-ca99-4f10-bea6-5f4c8396af22",
   "metadata": {},
   "outputs": [],
   "source": [
    "df_native_removed.shape"
   ]
  },
  {
   "cell_type": "code",
   "execution_count": null,
   "id": "0ed2a247-e881-4c89-bfb6-275d9c3f59f3",
   "metadata": {},
   "outputs": [],
   "source": [
    "actual_multiplier(df_native_removed)"
   ]
  },
  {
   "cell_type": "code",
   "execution_count": null,
   "id": "82ac4b96-1a56-4612-8186-9cf1b283f013",
   "metadata": {},
   "outputs": [],
   "source": [
    "df_multiplier(df_native_removed)"
   ]
  },
  {
   "cell_type": "markdown",
   "id": "3c2c86a8-40e6-44fe-aa79-36926d82a402",
   "metadata": {},
   "source": [
    "## Display and Native Multiplier"
   ]
  },
  {
   "cell_type": "code",
   "execution_count": null,
   "id": "cfb952cf-bd94-445a-9423-4173644d506c",
   "metadata": {},
   "outputs": [],
   "source": [
    "df_display_native_removed = removal(df_display_native)"
   ]
  },
  {
   "cell_type": "code",
   "execution_count": null,
   "id": "fe155a37-96b7-427d-85e6-23e501d2d6cb",
   "metadata": {},
   "outputs": [],
   "source": [
    "df_display_native.shape"
   ]
  },
  {
   "cell_type": "code",
   "execution_count": null,
   "id": "c79759b5-428e-4694-ae5f-99adc0bc8dd9",
   "metadata": {},
   "outputs": [],
   "source": [
    "df_display_native_removed.shape"
   ]
  },
  {
   "cell_type": "code",
   "execution_count": null,
   "id": "afe77b19-e9d8-4756-8be0-9414a085e9dd",
   "metadata": {},
   "outputs": [],
   "source": [
    "actual_multiplier(df_display_native_removed)"
   ]
  },
  {
   "cell_type": "code",
   "execution_count": null,
   "id": "115bdd01-cf6d-477c-9998-40aceba704e4",
   "metadata": {},
   "outputs": [],
   "source": [
    "df_multiplier(df_display_native_removed)"
   ]
  },
  {
   "cell_type": "markdown",
   "id": "becfea8e-2ff0-4cbc-81fd-cfe057d557b6",
   "metadata": {},
   "source": [
    "## Social Multiplier"
   ]
  },
  {
   "cell_type": "code",
   "execution_count": null,
   "id": "4b500d77-c853-4e7b-b7f2-91925445a906",
   "metadata": {},
   "outputs": [],
   "source": [
    "df_social_removed = removal(df_social)"
   ]
  },
  {
   "cell_type": "code",
   "execution_count": null,
   "id": "79bebfe0-93de-42dc-afb5-413805096593",
   "metadata": {},
   "outputs": [],
   "source": [
    "df_social.shape"
   ]
  },
  {
   "cell_type": "code",
   "execution_count": null,
   "id": "5efe5095-8add-422d-b825-d99401fd9658",
   "metadata": {},
   "outputs": [],
   "source": [
    "df_social_removed.shape"
   ]
  },
  {
   "cell_type": "code",
   "execution_count": null,
   "id": "2e45e27e-e3cb-4a7c-90f4-25283c8ebab3",
   "metadata": {},
   "outputs": [],
   "source": [
    "actual_multiplier(df_social_removed)"
   ]
  },
  {
   "cell_type": "code",
   "execution_count": null,
   "id": "527bc9b4-7560-44d2-a5b2-4a9d4e3387ef",
   "metadata": {},
   "outputs": [],
   "source": [
    "df_multiplier(df_social_removed)"
   ]
  },
  {
   "cell_type": "markdown",
   "id": "d4a0713b-c48e-4368-b670-a23db8daec20",
   "metadata": {},
   "source": [
    "## Facebook Multiplier"
   ]
  },
  {
   "cell_type": "code",
   "execution_count": null,
   "id": "7a1d37fa-27d2-47dd-bddc-b443a5181bce",
   "metadata": {},
   "outputs": [],
   "source": [
    "df_fb_removed = removal(df_fb)"
   ]
  },
  {
   "cell_type": "code",
   "execution_count": null,
   "id": "6f6d960b-e378-4023-a1f6-41449c478b4f",
   "metadata": {},
   "outputs": [],
   "source": [
    "df_fb.shape"
   ]
  },
  {
   "cell_type": "code",
   "execution_count": null,
   "id": "6d8d0477-68bd-4a4d-90c3-a231ccbbdefe",
   "metadata": {},
   "outputs": [],
   "source": [
    "df_fb_removed.shape"
   ]
  },
  {
   "cell_type": "code",
   "execution_count": null,
   "id": "e6f24dfe-7fd0-466f-af28-dfdada22d909",
   "metadata": {},
   "outputs": [],
   "source": [
    "actual_multiplier(df_fb_removed)"
   ]
  },
  {
   "cell_type": "code",
   "execution_count": null,
   "id": "4a1fa62a-6a86-4597-8c03-ad24f1bee65f",
   "metadata": {},
   "outputs": [],
   "source": [
    "df_multiplier(df_fb_removed)"
   ]
  },
  {
   "cell_type": "markdown",
   "id": "b4dc0072-23e0-49ac-b1cb-222416fefb87",
   "metadata": {},
   "source": [
    "## Snap Multiplier"
   ]
  },
  {
   "cell_type": "code",
   "execution_count": null,
   "id": "ff128e1e-eb34-4870-af21-07c54ecd2794",
   "metadata": {},
   "outputs": [],
   "source": [
    "df_snap_removed = removal(df_snap)"
   ]
  },
  {
   "cell_type": "code",
   "execution_count": null,
   "id": "894447fe-fdb9-43af-a74d-bdf0fd3247d0",
   "metadata": {},
   "outputs": [],
   "source": [
    "df_snap.shape"
   ]
  },
  {
   "cell_type": "code",
   "execution_count": null,
   "id": "31fff12a-bbde-45c7-ab0e-9ea44b9f7115",
   "metadata": {},
   "outputs": [],
   "source": [
    "df_snap_removed.shape"
   ]
  },
  {
   "cell_type": "code",
   "execution_count": null,
   "id": "ebbb9183-bc2b-4de6-b32c-3c60d2049c2c",
   "metadata": {},
   "outputs": [],
   "source": [
    "actual_multiplier(df_snap_removed)"
   ]
  },
  {
   "cell_type": "code",
   "execution_count": null,
   "id": "30cc1ee6-30e3-4e1e-89a5-2c4c36abe23c",
   "metadata": {},
   "outputs": [],
   "source": [
    "df_multiplier(df_snap_removed)"
   ]
  },
  {
   "cell_type": "markdown",
   "id": "fe4514ed-e9ff-4a02-bae9-bdf4e0c8268d",
   "metadata": {},
   "source": [
    "## Twitter Multiplier"
   ]
  },
  {
   "cell_type": "code",
   "execution_count": null,
   "id": "d4e4e3ec-c11c-4ac1-8563-6f6b91f21637",
   "metadata": {},
   "outputs": [],
   "source": [
    "df_twitter_removed = removal(df_twitter)"
   ]
  },
  {
   "cell_type": "code",
   "execution_count": null,
   "id": "344ecb54-a2bf-47aa-b271-1322c620caa6",
   "metadata": {},
   "outputs": [],
   "source": [
    "df_twitter.shape"
   ]
  },
  {
   "cell_type": "code",
   "execution_count": null,
   "id": "0ab5c5f4-b72a-4978-be1f-b7c22733e764",
   "metadata": {},
   "outputs": [],
   "source": [
    "df_twitter_removed.shape"
   ]
  },
  {
   "cell_type": "code",
   "execution_count": null,
   "id": "bb65fb75-5036-4c48-9832-f7779c1af81f",
   "metadata": {},
   "outputs": [],
   "source": [
    "actual_multiplier(df_twitter_removed)"
   ]
  },
  {
   "cell_type": "code",
   "execution_count": null,
   "id": "94749307-ace4-4fef-85b6-38f94173ba1b",
   "metadata": {},
   "outputs": [],
   "source": [
    "df_multiplier(df_twitter_removed)"
   ]
  },
  {
   "cell_type": "markdown",
   "id": "ee9f2d8e-cc63-401a-8455-6c1a44dd2c64",
   "metadata": {},
   "source": [
    "# Data Cleaning Section at Top"
   ]
  },
  {
   "cell_type": "markdown",
   "id": "78feba8b-ae53-4525-8fbe-1b10b4fcec2f",
   "metadata": {},
   "source": [
    "get rid of Paid Search, spend 0, combine low-volume channels, sites, etc.\n",
    "centralize and consolidate -> make adjustments before splitting into channel dfs "
   ]
  },
  {
   "cell_type": "markdown",
   "id": "fc62f4e5-06fc-43cd-8301-66eb142dd3ea",
   "metadata": {},
   "source": [
    "# Functions"
   ]
  },
  {
   "cell_type": "markdown",
   "id": "301cf05e-dda4-4ef9-82a0-0ec44ed9fc26",
   "metadata": {},
   "source": [
    "make more dynamic\n",
    "training range 2020, out of sample -> 2021 (could potentially adjust)\n",
    "run the actual functions and run for each channel (at each granularity) \n",
    "and get % error table"
   ]
  },
  {
   "cell_type": "markdown",
   "id": "29b7074f-f462-4d3a-9bef-ac8c26fdb5ef",
   "metadata": {},
   "source": [
    "# Appendix"
   ]
  },
  {
   "cell_type": "code",
   "execution_count": null,
   "id": "07b7d0db-307a-49f3-b657-c00b31f46294",
   "metadata": {},
   "outputs": [],
   "source": [
    "# Attempts to group high vol and low vol (that didn't rly work)\n",
    "\n",
    "\n",
    "#group low-volume channels, products, and sites, and split out channel-Social\n",
    "# def new_channel(channel):\n",
    "#     if (channel == 'Social') | (channel == 'Display') | (channel == 'Paid Search') | (channel == 'Native'):\n",
    "#         return channel\n",
    "#     else:\n",
    "#         return 'Other'\n",
    "    \n",
    "# # for x in df_copy['channel']:\n",
    "# #   print(new_channel(x))\n",
    "    \n",
    "# df_copy['new_channel'] = df_copy.apply(lambda x: new_channel(x['channel'],axis=1))\n",
    "#~ -> not"
   ]
  },
  {
   "cell_type": "code",
   "execution_count": null,
   "id": "536f0b50-eb16-46da-91b0-6dc2c4bf1f31",
   "metadata": {},
   "outputs": [],
   "source": [
    "# REMOVAL FUNCTION (switched 7.12.21)\n",
    "\n",
    "#returns df with outliers, low-vol channels, sites, and products removed\n",
    "# # pretty much don't need -> move elsewhere \n",
    "\n",
    "# #impact of removals: \n",
    "\n",
    "# #if ALL (outliers, paid search, all 3 low vol) removed, then the df is cut in more than half (832638 -> 374316)\n",
    "# #Outliers (702,551)\n",
    "# #Paid Search (657,082)\n",
    "# #Total Conversions = 0 (613,001)\n",
    "# #Low-volume channels (772,840)\n",
    "# #low-volume sites (831,519)\n",
    "# #low-volume products (754,941)\n",
    "# #all 3 low-volume (733,921)\n",
    "\n",
    "# # some of it move to the top and remove once -> Paid Search\n",
    "# # channels where there is 0 spend -> remove it for each specific dataframe \n",
    "\n",
    "# def removal(df):\n",
    "#     #remove_outliers\n",
    "#     df_spend = df\n",
    "#     q1, q3 = np.percentile(df_spend['spend'], [25, 75])\n",
    "#     iqr = q3 - q1\n",
    "#     lower_bound = q1 - (iqr * 1.5)\n",
    "#     upper_bound = q3 + (iqr * 1.5)\n",
    "#     df_outliers_remov= df[df['spend'] > lower_bound][df['spend'] < upper_bound] \n",
    "\n",
    "#     # df_spend['spend'].describe(percentile = )\n",
    "    \n",
    "#     #remove Paid Search\n",
    "#     df_paid_search_remov = df_outliers_remov.loc[df['channel'] != 'Paid Search']\n",
    "    \n",
    "# #     #remove low-volume channels\n",
    "# #     df_high_vol_channel = df_paid_search_remov.loc[df['new_channel'] != 'Low-Volume Channels']\n",
    "    \n",
    "# #     #remove low-volume sites\n",
    "# #     df_high_vol_sites = df_high_vol_channel.loc[df['new_site'] != 'Low-Volume Sites']\n",
    "    \n",
    "# #     #remove low-volume products\n",
    "# #     df_high_vol_products = df_high_vol_sites.loc[df['new_product'] != 'Low-Volume Products']\n",
    "    \n",
    "#     #remove any June 2020 for Native -> infinity (spend = 0)\n",
    "#     df_remov_native_zero = df_high_vol_products.loc[~((df['year_month_cal'] == '2020-06-01') & \n",
    "#                                              (df['channel'] == 'Native'))]\n",
    "    \n",
    "#     #remove any June 2020 for Twitter -> infinity (spend = 0)\n",
    "#     df_remov_twitter_zero = df_remov_native_zero.loc[~((df['year_month_cal'] == '2020-06-01') & \n",
    "#                                              (df['channel'] == 'Social') &\n",
    "#                                              (df['site'] == 'Twitter'))]\n",
    "#     #remove total conversions = 0 \n",
    "#     df_final_remov = df_remov_twitter_zero.loc[df['total_conversions'] == 0]\n",
    "    \n",
    "#     return df_final_remov"
   ]
  }
 ],
 "metadata": {
  "kernelspec": {
   "display_name": "Python 3",
   "language": "python",
   "name": "python3"
  },
  "language_info": {
   "codemirror_mode": {
    "name": "ipython",
    "version": 3
   },
   "file_extension": ".py",
   "mimetype": "text/x-python",
   "name": "python",
   "nbconvert_exporter": "python",
   "pygments_lexer": "ipython3",
   "version": "3.8.2"
  }
 },
 "nbformat": 4,
 "nbformat_minor": 5
}

{
 "cells": [
  {
   "cell_type": "markdown",
   "id": "c0eea82e-3927-4e6f-96e6-a976fc6a93a9",
   "metadata": {},
   "source": [
    "# EDA Data Investigation"
   ]
  },
  {
   "cell_type": "code",
   "execution_count": 1,
   "id": "5cfbadea-11ec-401c-ae3f-47fa13fc2fa5",
   "metadata": {},
   "outputs": [],
   "source": [
    "#data stuff\n",
    "import time\n",
    "import pandas as pd\n",
    "import numpy as np\n",
    "import datetime as dt\n",
    "\n",
    "#regression stuff\n",
    "from sklearn.linear_model import LinearRegression\n",
    "from sklearn.model_selection import train_test_split\n",
    "from sklearn.preprocessing import MinMaxScaler, StandardScaler\n",
    "from sklearn.metrics import mean_squared_error, r2_score\n",
    "import statsmodels.api as sm\n",
    "\n",
    "#graph stuff\n",
    "import seaborn as sns\n",
    "from plotly.subplots import make_subplots\n",
    "from plotly import graph_objects as go\n",
    "import plotly\n",
    "import matplotlib.pyplot as plt\n",
    "\n",
    "%matplotlib inline\n",
    "pd.set_option('display.max_columns', 500)\n",
    "pd.options.mode.chained_assignment = None  # default='warn'\n",
    "\n",
    "\n",
    "#import functions from other file that we want\n",
    "from utilities import *"
   ]
  },
  {
   "cell_type": "markdown",
   "id": "03456965-4aff-496e-a8be-bd34336c99e3",
   "metadata": {
    "tags": []
   },
   "source": [
    "# 0.1 Read in data"
   ]
  },
  {
   "cell_type": "code",
   "execution_count": 2,
   "id": "eca8530e-d228-450b-a532-8e214a790f37",
   "metadata": {},
   "outputs": [
    {
     "name": "stdout",
     "output_type": "stream",
     "text": [
      "time took: 213.99\n"
     ]
    }
   ],
   "source": [
    "#read in clickthru data from vw dataset\n",
    "q = '''SELECT \n",
    "     account\n",
    "    , attr_window\n",
    "    , campaign\n",
    "    , _match\n",
    "    , campaign_objective\n",
    "    , Year\n",
    "    , Quarter\n",
    "    , Month\n",
    "    , week\n",
    "    , week_start\n",
    "    , date\n",
    "    , marketing_initiative\n",
    "    , marketing_segment\n",
    "    , marketing_subinitiative\n",
    "    , channel\n",
    "    , platform\n",
    "    , site\n",
    "    , sum(case when sor_prod = 'All (Core All, NPV)' then spend else 0 end) spend\n",
    "    , sum(case when sor_prod = 'All (Core All, NPV)' then clicks else 0 end) clicks\n",
    "    , sum(case when sor_prod = 'All (Core All, NPV)' then impressions else 0 end) impressions\n",
    "    , sum(case\n",
    "            when sor_prod = 'Core' then conversions else null end) digi_ada_conversions\n",
    "    , sum(case\n",
    "            when sor_prod = 'Crosswords' then conversions else null end) games_conversions\n",
    "    , sum(case\n",
    "            when sor_prod = 'EDU' then conversions else null end) edu_conversions\n",
    "    , sum(case\n",
    "            when sor_prod = 'Home Delivery' then conversions else null end) hd_conversions\n",
    "    , sum(case\n",
    "            when sor_prod = 'CK' then conversions else null end) ck_conversions     \n",
    "    , sum(case\n",
    "            when sor_prod = 'Core All (Core, HD, EDU)' then conversions else null end) core_conversions\n",
    "    , sum(case\n",
    "            when sor_prod = 'All (Core All, NPV)' then conversions else null end) all_conversions\n",
    "FROM `nyt-mkt-prd.paid_media_data.placement_daily_vw`\n",
    "WHERE date >= '2020-01-01' and attr_window in('Media Reported - Click Thru')\n",
    "group by 1, 2, 3, 4, 5, 6, 7, 8, 9, 10, 11,12,13,14,15,16,17\n",
    "order by date, campaign, _match\n",
    "    '''\n",
    "start_time = time.time() \n",
    "\n",
    "clickthru_df = pd.read_gbq(q,\n",
    "                 project_id ='nyt-bigquery-beta-workspace',\n",
    "                 dialect='standard')\n",
    "\n",
    "print(f'time took: {str(round(time.time() - start_time, 2))}')"
   ]
  },
  {
   "cell_type": "code",
   "execution_count": 3,
   "id": "498ee60f-2f73-402a-825e-2247b9a6d3b9",
   "metadata": {},
   "outputs": [
    {
     "data": {
      "text/html": [
       "<div>\n",
       "<style scoped>\n",
       "    .dataframe tbody tr th:only-of-type {\n",
       "        vertical-align: middle;\n",
       "    }\n",
       "\n",
       "    .dataframe tbody tr th {\n",
       "        vertical-align: top;\n",
       "    }\n",
       "\n",
       "    .dataframe thead th {\n",
       "        text-align: right;\n",
       "    }\n",
       "</style>\n",
       "<table border=\"1\" class=\"dataframe\">\n",
       "  <thead>\n",
       "    <tr style=\"text-align: right;\">\n",
       "      <th></th>\n",
       "      <th>account</th>\n",
       "      <th>attr_window</th>\n",
       "      <th>campaign</th>\n",
       "      <th>_match</th>\n",
       "      <th>campaign_objective</th>\n",
       "      <th>Year</th>\n",
       "      <th>Quarter</th>\n",
       "      <th>Month</th>\n",
       "      <th>week</th>\n",
       "      <th>week_start</th>\n",
       "      <th>date</th>\n",
       "      <th>marketing_initiative</th>\n",
       "      <th>marketing_segment</th>\n",
       "      <th>marketing_subinitiative</th>\n",
       "      <th>channel</th>\n",
       "      <th>platform</th>\n",
       "      <th>site</th>\n",
       "      <th>spend</th>\n",
       "      <th>clicks</th>\n",
       "      <th>impressions</th>\n",
       "      <th>digi_ada_conversions</th>\n",
       "      <th>games_conversions</th>\n",
       "      <th>edu_conversions</th>\n",
       "      <th>hd_conversions</th>\n",
       "      <th>ck_conversions</th>\n",
       "      <th>core_conversions</th>\n",
       "      <th>all_conversions</th>\n",
       "    </tr>\n",
       "  </thead>\n",
       "  <tbody>\n",
       "    <tr>\n",
       "      <th>0</th>\n",
       "      <td>Audience Engagement 1</td>\n",
       "      <td>Media Reported - Click Thru</td>\n",
       "      <td>Book Review Live 2020</td>\n",
       "      <td>BRAND ASSET - B&amp;W</td>\n",
       "      <td>X-UNKNOWN-X</td>\n",
       "      <td>2020</td>\n",
       "      <td>1</td>\n",
       "      <td>1</td>\n",
       "      <td>0</td>\n",
       "      <td>2019-12-29</td>\n",
       "      <td>2020-01-01 00:00:00+00:00</td>\n",
       "      <td>X-UNKNOWN-X</td>\n",
       "      <td>X-UNKNOWN-X</td>\n",
       "      <td>X-UNKNOWN-X</td>\n",
       "      <td>Social</td>\n",
       "      <td>Facebook</td>\n",
       "      <td>Facebook</td>\n",
       "      <td>94.010001</td>\n",
       "      <td>142.0</td>\n",
       "      <td>26617.0</td>\n",
       "      <td>0.0</td>\n",
       "      <td>0.0</td>\n",
       "      <td>0.0</td>\n",
       "      <td>0.0</td>\n",
       "      <td>0.0</td>\n",
       "      <td>0.0</td>\n",
       "      <td>0.0</td>\n",
       "    </tr>\n",
       "    <tr>\n",
       "      <th>1</th>\n",
       "      <td>Audience Engagement 1</td>\n",
       "      <td>Media Reported - Click Thru</td>\n",
       "      <td>Book Review Live 2020</td>\n",
       "      <td>QUOTE GRAPHIC</td>\n",
       "      <td>X-UNKNOWN-X</td>\n",
       "      <td>2020</td>\n",
       "      <td>1</td>\n",
       "      <td>1</td>\n",
       "      <td>0</td>\n",
       "      <td>2019-12-29</td>\n",
       "      <td>2020-01-01 00:00:00+00:00</td>\n",
       "      <td>X-UNKNOWN-X</td>\n",
       "      <td>X-UNKNOWN-X</td>\n",
       "      <td>X-UNKNOWN-X</td>\n",
       "      <td>Social</td>\n",
       "      <td>Facebook</td>\n",
       "      <td>Facebook</td>\n",
       "      <td>27.900001</td>\n",
       "      <td>56.0</td>\n",
       "      <td>18624.0</td>\n",
       "      <td>0.0</td>\n",
       "      <td>0.0</td>\n",
       "      <td>0.0</td>\n",
       "      <td>0.0</td>\n",
       "      <td>0.0</td>\n",
       "      <td>0.0</td>\n",
       "      <td>0.0</td>\n",
       "    </tr>\n",
       "    <tr>\n",
       "      <th>2</th>\n",
       "      <td>Audience Engagement 1</td>\n",
       "      <td>Media Reported - Click Thru</td>\n",
       "      <td>Book Review Live 2020</td>\n",
       "      <td>SINGLE SPEAKER ASSET - NICHOLAS</td>\n",
       "      <td>X-UNKNOWN-X</td>\n",
       "      <td>2020</td>\n",
       "      <td>1</td>\n",
       "      <td>1</td>\n",
       "      <td>0</td>\n",
       "      <td>2019-12-29</td>\n",
       "      <td>2020-01-01 00:00:00+00:00</td>\n",
       "      <td>X-UNKNOWN-X</td>\n",
       "      <td>X-UNKNOWN-X</td>\n",
       "      <td>X-UNKNOWN-X</td>\n",
       "      <td>Social</td>\n",
       "      <td>Facebook</td>\n",
       "      <td>Facebook</td>\n",
       "      <td>2.950000</td>\n",
       "      <td>8.0</td>\n",
       "      <td>3747.0</td>\n",
       "      <td>0.0</td>\n",
       "      <td>0.0</td>\n",
       "      <td>0.0</td>\n",
       "      <td>0.0</td>\n",
       "      <td>0.0</td>\n",
       "      <td>0.0</td>\n",
       "      <td>0.0</td>\n",
       "    </tr>\n",
       "    <tr>\n",
       "      <th>3</th>\n",
       "      <td>UAC_Crosswords</td>\n",
       "      <td>Media Reported - Click Thru</td>\n",
       "      <td>Crosswords UAC - US - Android</td>\n",
       "      <td>CROSSWORDS UAC - US - ANDROID</td>\n",
       "      <td>X-UNKNOWN-X</td>\n",
       "      <td>2020</td>\n",
       "      <td>1</td>\n",
       "      <td>1</td>\n",
       "      <td>0</td>\n",
       "      <td>2019-12-29</td>\n",
       "      <td>2020-01-01 00:00:00+00:00</td>\n",
       "      <td>App-Install</td>\n",
       "      <td>X-UNKNOWN-X</td>\n",
       "      <td>Games</td>\n",
       "      <td>Display</td>\n",
       "      <td>Google Ads</td>\n",
       "      <td>UAC</td>\n",
       "      <td>888.334961</td>\n",
       "      <td>1117.0</td>\n",
       "      <td>110080.0</td>\n",
       "      <td>0.0</td>\n",
       "      <td>0.0</td>\n",
       "      <td>0.0</td>\n",
       "      <td>0.0</td>\n",
       "      <td>0.0</td>\n",
       "      <td>0.0</td>\n",
       "      <td>0.0</td>\n",
       "    </tr>\n",
       "    <tr>\n",
       "      <th>4</th>\n",
       "      <td>UAC_Crosswords</td>\n",
       "      <td>Media Reported - Click Thru</td>\n",
       "      <td>Crosswords UAC - US - iOS</td>\n",
       "      <td>CROSSWORDS UAC - US - IOS</td>\n",
       "      <td>X-UNKNOWN-X</td>\n",
       "      <td>2020</td>\n",
       "      <td>1</td>\n",
       "      <td>1</td>\n",
       "      <td>0</td>\n",
       "      <td>2019-12-29</td>\n",
       "      <td>2020-01-01 00:00:00+00:00</td>\n",
       "      <td>App-Install</td>\n",
       "      <td>X-UNKNOWN-X</td>\n",
       "      <td>Games</td>\n",
       "      <td>Display</td>\n",
       "      <td>Google Ads</td>\n",
       "      <td>UAC</td>\n",
       "      <td>65.693260</td>\n",
       "      <td>63.0</td>\n",
       "      <td>1903.0</td>\n",
       "      <td>0.0</td>\n",
       "      <td>0.0</td>\n",
       "      <td>0.0</td>\n",
       "      <td>0.0</td>\n",
       "      <td>0.0</td>\n",
       "      <td>0.0</td>\n",
       "      <td>0.0</td>\n",
       "    </tr>\n",
       "  </tbody>\n",
       "</table>\n",
       "</div>"
      ],
      "text/plain": [
       "                 account                  attr_window  \\\n",
       "0  Audience Engagement 1  Media Reported - Click Thru   \n",
       "1  Audience Engagement 1  Media Reported - Click Thru   \n",
       "2  Audience Engagement 1  Media Reported - Click Thru   \n",
       "3         UAC_Crosswords  Media Reported - Click Thru   \n",
       "4         UAC_Crosswords  Media Reported - Click Thru   \n",
       "\n",
       "                        campaign                           _match  \\\n",
       "0          Book Review Live 2020                BRAND ASSET - B&W   \n",
       "1          Book Review Live 2020                    QUOTE GRAPHIC   \n",
       "2          Book Review Live 2020  SINGLE SPEAKER ASSET - NICHOLAS   \n",
       "3  Crosswords UAC - US - Android    CROSSWORDS UAC - US - ANDROID   \n",
       "4      Crosswords UAC - US - iOS        CROSSWORDS UAC - US - IOS   \n",
       "\n",
       "  campaign_objective  Year  Quarter  Month  week week_start  \\\n",
       "0        X-UNKNOWN-X  2020        1      1     0 2019-12-29   \n",
       "1        X-UNKNOWN-X  2020        1      1     0 2019-12-29   \n",
       "2        X-UNKNOWN-X  2020        1      1     0 2019-12-29   \n",
       "3        X-UNKNOWN-X  2020        1      1     0 2019-12-29   \n",
       "4        X-UNKNOWN-X  2020        1      1     0 2019-12-29   \n",
       "\n",
       "                       date marketing_initiative marketing_segment  \\\n",
       "0 2020-01-01 00:00:00+00:00          X-UNKNOWN-X       X-UNKNOWN-X   \n",
       "1 2020-01-01 00:00:00+00:00          X-UNKNOWN-X       X-UNKNOWN-X   \n",
       "2 2020-01-01 00:00:00+00:00          X-UNKNOWN-X       X-UNKNOWN-X   \n",
       "3 2020-01-01 00:00:00+00:00          App-Install       X-UNKNOWN-X   \n",
       "4 2020-01-01 00:00:00+00:00          App-Install       X-UNKNOWN-X   \n",
       "\n",
       "  marketing_subinitiative  channel    platform      site       spend  clicks  \\\n",
       "0             X-UNKNOWN-X   Social    Facebook  Facebook   94.010001   142.0   \n",
       "1             X-UNKNOWN-X   Social    Facebook  Facebook   27.900001    56.0   \n",
       "2             X-UNKNOWN-X   Social    Facebook  Facebook    2.950000     8.0   \n",
       "3                   Games  Display  Google Ads       UAC  888.334961  1117.0   \n",
       "4                   Games  Display  Google Ads       UAC   65.693260    63.0   \n",
       "\n",
       "   impressions  digi_ada_conversions  games_conversions  edu_conversions  \\\n",
       "0      26617.0                   0.0                0.0              0.0   \n",
       "1      18624.0                   0.0                0.0              0.0   \n",
       "2       3747.0                   0.0                0.0              0.0   \n",
       "3     110080.0                   0.0                0.0              0.0   \n",
       "4       1903.0                   0.0                0.0              0.0   \n",
       "\n",
       "   hd_conversions  ck_conversions  core_conversions  all_conversions  \n",
       "0             0.0             0.0               0.0              0.0  \n",
       "1             0.0             0.0               0.0              0.0  \n",
       "2             0.0             0.0               0.0              0.0  \n",
       "3             0.0             0.0               0.0              0.0  \n",
       "4             0.0             0.0               0.0              0.0  "
      ]
     },
     "execution_count": 3,
     "metadata": {},
     "output_type": "execute_result"
    }
   ],
   "source": [
    "clickthru_df.head()"
   ]
  },
  {
   "cell_type": "code",
   "execution_count": 4,
   "id": "b517a5f5-0a6f-4a27-8157-0df14b85f002",
   "metadata": {},
   "outputs": [
    {
     "name": "stdout",
     "output_type": "stream",
     "text": [
      "time took: 196.08\n"
     ]
    }
   ],
   "source": [
    "#read in viewthru data from vw dataset\n",
    "q = '''SELECT \n",
    "     account\n",
    "    , attr_window\n",
    "    , campaign\n",
    "    , _match\n",
    "    , campaign_objective\n",
    "    , Year\n",
    "    , Quarter\n",
    "    , Month\n",
    "    , week\n",
    "    , week_start\n",
    "    , date\n",
    "    , marketing_initiative\n",
    "    , marketing_segment\n",
    "    , marketing_subinitiative\n",
    "    , channel\n",
    "    , platform\n",
    "    , site\n",
    "    , sum(case when sor_prod = 'All (Core All, NPV)' then spend else 0 end) spend\n",
    "    , sum(case when sor_prod = 'All (Core All, NPV)' then clicks else 0 end) clicks\n",
    "    , sum(case when sor_prod = 'All (Core All, NPV)' then impressions else 0 end) impressions\n",
    "    , sum(case\n",
    "            when sor_prod = 'Core' then conversions else null end) digi_ada_conversions\n",
    "    , sum(case\n",
    "            when sor_prod = 'Crosswords' then conversions else null end) games_conversions\n",
    "    , sum(case\n",
    "            when sor_prod = 'EDU' then conversions else null end) edu_conversions\n",
    "    , sum(case\n",
    "            when sor_prod = 'Home Delivery' then conversions else null end) hd_conversions\n",
    "    , sum(case\n",
    "            when sor_prod = 'CK' then conversions else null end) ck_conversions     \n",
    "    , sum(case\n",
    "            when sor_prod = 'Core All (Core, HD, EDU)' then conversions else null end) core_conversions\n",
    "    , sum(case\n",
    "            when sor_prod = 'All (Core All, NPV)' then conversions else null end) all_conversions\n",
    "FROM `nyt-mkt-prd.paid_media_data.placement_daily_vw`\n",
    "WHERE date >= '2020-01-01' and attr_window in('Media Reported - View Thru')\n",
    "group by 1, 2, 3, 4, 5, 6, 7, 8, 9, 10, 11,12,13,14,15,16,17\n",
    "order by date, campaign, _match\n",
    "    '''\n",
    "start_time = time.time() \n",
    "\n",
    "viewthru_df = pd.read_gbq(q,\n",
    "                 project_id ='nyt-bigquery-beta-workspace',\n",
    "                 dialect='standard')\n",
    "\n",
    "print(f'time took: {str(round(time.time() - start_time, 2))}')"
   ]
  },
  {
   "cell_type": "code",
   "execution_count": 5,
   "id": "967b8df4-641c-467b-9394-96d1da3dae06",
   "metadata": {},
   "outputs": [],
   "source": [
    "#rename columns in the separate dataframes to identify clickthru and viewthru\n",
    "#first clickthru\n",
    "for col in clickthru_df.columns:\n",
    "    if 'conversions' in col: \n",
    "        clickthru_df[col+'_ct'] = clickthru_df[col]\n",
    "        clickthru_df.drop(col, axis=1, inplace=True)\n",
    "        \n",
    "#now viewthru\n",
    "for col in viewthru_df.columns:\n",
    "    if 'conversions' in col: \n",
    "        viewthru_df[col+'_vt'] = viewthru_df[col]\n",
    "        viewthru_df.drop(col, axis=1, inplace=True)"
   ]
  },
  {
   "cell_type": "code",
   "execution_count": 6,
   "id": "f1ea756e-3c5b-41b5-85fb-b85dedca8d63",
   "metadata": {},
   "outputs": [],
   "source": [
    "#now merge the dataframes \n",
    "#create a truncated version of viewthru DF to make the merge more efficient\n",
    "vt_merge = viewthru_df[['account','campaign','_match','date','marketing_initiative','marketing_segment'] + [col for col in viewthru_df.columns if 'conversions' in col]]\n",
    "\n",
    "#merge with clickthru df\n",
    "df = clickthru_df.merge(vt_merge, how='left', on=[col for col in vt_merge.columns if 'conversions' not in col])"
   ]
  },
  {
   "cell_type": "code",
   "execution_count": 7,
   "id": "cfc66b5d-cf88-4908-a5dc-f7f372825d10",
   "metadata": {
    "tags": []
   },
   "outputs": [
    {
     "data": {
      "text/plain": [
       "(881041, 34)"
      ]
     },
     "execution_count": 7,
     "metadata": {},
     "output_type": "execute_result"
    }
   ],
   "source": [
    "df.shape"
   ]
  },
  {
   "cell_type": "code",
   "execution_count": 8,
   "id": "c8fca2d7-5106-4f09-af46-53aac5066432",
   "metadata": {},
   "outputs": [
    {
     "data": {
      "text/html": [
       "<div>\n",
       "<style scoped>\n",
       "    .dataframe tbody tr th:only-of-type {\n",
       "        vertical-align: middle;\n",
       "    }\n",
       "\n",
       "    .dataframe tbody tr th {\n",
       "        vertical-align: top;\n",
       "    }\n",
       "\n",
       "    .dataframe thead th {\n",
       "        text-align: right;\n",
       "    }\n",
       "</style>\n",
       "<table border=\"1\" class=\"dataframe\">\n",
       "  <thead>\n",
       "    <tr style=\"text-align: right;\">\n",
       "      <th></th>\n",
       "      <th>account</th>\n",
       "      <th>attr_window</th>\n",
       "      <th>campaign</th>\n",
       "      <th>_match</th>\n",
       "      <th>campaign_objective</th>\n",
       "      <th>Year</th>\n",
       "      <th>Quarter</th>\n",
       "      <th>Month</th>\n",
       "      <th>week</th>\n",
       "      <th>week_start</th>\n",
       "      <th>date</th>\n",
       "      <th>marketing_initiative</th>\n",
       "      <th>marketing_segment</th>\n",
       "      <th>marketing_subinitiative</th>\n",
       "      <th>channel</th>\n",
       "      <th>platform</th>\n",
       "      <th>site</th>\n",
       "      <th>spend</th>\n",
       "      <th>clicks</th>\n",
       "      <th>impressions</th>\n",
       "      <th>digi_ada_conversions_ct</th>\n",
       "      <th>games_conversions_ct</th>\n",
       "      <th>edu_conversions_ct</th>\n",
       "      <th>hd_conversions_ct</th>\n",
       "      <th>ck_conversions_ct</th>\n",
       "      <th>core_conversions_ct</th>\n",
       "      <th>all_conversions_ct</th>\n",
       "      <th>digi_ada_conversions_vt</th>\n",
       "      <th>games_conversions_vt</th>\n",
       "      <th>edu_conversions_vt</th>\n",
       "      <th>hd_conversions_vt</th>\n",
       "      <th>ck_conversions_vt</th>\n",
       "      <th>core_conversions_vt</th>\n",
       "      <th>all_conversions_vt</th>\n",
       "    </tr>\n",
       "  </thead>\n",
       "  <tbody>\n",
       "  </tbody>\n",
       "</table>\n",
       "</div>"
      ],
      "text/plain": [
       "Empty DataFrame\n",
       "Columns: [account, attr_window, campaign, _match, campaign_objective, Year, Quarter, Month, week, week_start, date, marketing_initiative, marketing_segment, marketing_subinitiative, channel, platform, site, spend, clicks, impressions, digi_ada_conversions_ct, games_conversions_ct, edu_conversions_ct, hd_conversions_ct, ck_conversions_ct, core_conversions_ct, all_conversions_ct, digi_ada_conversions_vt, games_conversions_vt, edu_conversions_vt, hd_conversions_vt, ck_conversions_vt, core_conversions_vt, all_conversions_vt]\n",
       "Index: []"
      ]
     },
     "execution_count": 8,
     "metadata": {},
     "output_type": "execute_result"
    }
   ],
   "source": [
    "df[df.duplicated()]"
   ]
  },
  {
   "cell_type": "markdown",
   "id": "94fa48eb-89fb-4adb-843c-6c8ab089c8bb",
   "metadata": {},
   "source": [
    "## 0.1 Investigate Spend\n",
    "where spend = 0 but clicks, impressions, or conversions != 0"
   ]
  },
  {
   "cell_type": "code",
   "execution_count": 9,
   "id": "e05cd31d-6311-4d58-b641-031f1d29fe44",
   "metadata": {},
   "outputs": [
    {
     "data": {
      "text/plain": [
       "(256608, 34)"
      ]
     },
     "execution_count": 9,
     "metadata": {},
     "output_type": "execute_result"
    }
   ],
   "source": [
    "#pick a channel (Display) -> campaign names where there is no spend but there are impressions, etc.\n",
    "#look to see if there are a lot of situations (acquisition focused campaign) -> but if it's not acuqistion \n",
    "spend_df = df.loc[(df['spend'] == 0)]\n",
    "spend_df.shape"
   ]
  },
  {
   "cell_type": "code",
   "execution_count": 10,
   "id": "79a69145-cdeb-4f25-8c76-8735c9818c1a",
   "metadata": {},
   "outputs": [
    {
     "data": {
      "text/plain": [
       "channel\n",
       "Paid Search        141518\n",
       "X-UNKNOWN-X         67072\n",
       "Display             28239\n",
       "Native              11006\n",
       "Social               6125\n",
       "Other                1118\n",
       "Video                 867\n",
       "Connected Video       444\n",
       "Youtube               178\n",
       "Audio                  38\n",
       "XX                      3\n",
       "dtype: int64"
      ]
     },
     "execution_count": 10,
     "metadata": {},
     "output_type": "execute_result"
    }
   ],
   "source": [
    "spend_df.value_counts('channel')"
   ]
  },
  {
   "cell_type": "code",
   "execution_count": 11,
   "id": "e1313ab3-d3fb-487b-a5ce-9cd7ecb8ba53",
   "metadata": {},
   "outputs": [
    {
     "data": {
      "text/plain": [
       "count    2.566080e+05\n",
       "mean     2.470748e+03\n",
       "std      8.985099e+04\n",
       "min      0.000000e+00\n",
       "25%      0.000000e+00\n",
       "50%      0.000000e+00\n",
       "75%      0.000000e+00\n",
       "max      2.337060e+07\n",
       "Name: impressions, dtype: float64"
      ]
     },
     "execution_count": 11,
     "metadata": {},
     "output_type": "execute_result"
    }
   ],
   "source": [
    "spend_df['impressions'].describe()"
   ]
  },
  {
   "cell_type": "code",
   "execution_count": 12,
   "id": "aabaf8dd-fe97-4224-b6df-4078beb3ebe8",
   "metadata": {},
   "outputs": [
    {
     "data": {
      "text/plain": [
       "(52868, 34)"
      ]
     },
     "execution_count": 12,
     "metadata": {},
     "output_type": "execute_result"
    }
   ],
   "source": [
    "spend_or_df = df.loc[(df['spend'] == 0) & \n",
    "                    (\n",
    "                        (df['impressions'] != 0) |\n",
    "                        (df['clicks'] != 0) |\n",
    "                        (df['all_conversions_vt'] != 0) | \n",
    "                        (df['all_conversions_ct'] != 0)\n",
    "                        \n",
    "                    )]\n",
    "spend_or_df.shape"
   ]
  },
  {
   "cell_type": "code",
   "execution_count": 13,
   "id": "0b962474-a1f5-4542-ab33-b5f5066cd72b",
   "metadata": {},
   "outputs": [
    {
     "data": {
      "text/plain": [
       "(828173, 34)"
      ]
     },
     "execution_count": 13,
     "metadata": {},
     "output_type": "execute_result"
    }
   ],
   "source": [
    "excluded_spend_df = pd.concat([df,spend_or_df]).drop_duplicates(keep=False)\n",
    "excluded_spend_df.shape"
   ]
  },
  {
   "cell_type": "code",
   "execution_count": 14,
   "id": "bbe33e98-5a81-49f6-81a4-d8cd6bb8d6f5",
   "metadata": {},
   "outputs": [
    {
     "data": {
      "text/plain": [
       "account                    NYT Crossword - BambooNYT Crossword - BambooNY...\n",
       "attr_window                Media Reported - Click ThruMedia Reported - Cl...\n",
       "campaign                   NYTI_APP_CROSSWD_COUSA_TW_SO_AINS_AndUACmbC7NY...\n",
       "_match                     CROSSWORD_UA_ANDROID_SATIREACCOUNTS_HANDLES_CP...\n",
       "campaign_objective         X-UNKNOWN-XX-UNKNOWN-XX-UNKNOWN-XX-UNKNOWN-XX-...\n",
       "Year                                                               411555617\n",
       "Quarter                                                               342480\n",
       "Month                                                                 831160\n",
       "week                                                                 3186381\n",
       "marketing_initiative       App-InstallApp-InstallApp-InstallApp-InstallAp...\n",
       "marketing_segment          X-UNKNOWN-XX-UNKNOWN-XX-UNKNOWN-XX-UNKNOWN-XX-...\n",
       "marketing_subinitiative    GamesGamesGamesGamesGamesGamesGamesGamesGamesG...\n",
       "channel                    SocialSocialSocialSocialSocialSocialSocialSoci...\n",
       "platform                   TwitterTwitterTwitterTwitterTwitterTwitterTwit...\n",
       "site                       TwitterTwitterTwitterTwitterTwitterTwitterTwit...\n",
       "spend                                                                    0.0\n",
       "clicks                                                                   0.0\n",
       "impressions                                                              0.0\n",
       "digi_ada_conversions_ct                                                  0.0\n",
       "games_conversions_ct                                                     0.0\n",
       "edu_conversions_ct                                                       0.0\n",
       "hd_conversions_ct                                                        0.0\n",
       "ck_conversions_ct                                                        0.0\n",
       "core_conversions_ct                                                      0.0\n",
       "all_conversions_ct                                                       0.0\n",
       "digi_ada_conversions_vt                                                  0.0\n",
       "games_conversions_vt                                                     0.0\n",
       "edu_conversions_vt                                                       0.0\n",
       "hd_conversions_vt                                                        0.0\n",
       "ck_conversions_vt                                                        0.0\n",
       "core_conversions_vt                                                      0.0\n",
       "all_conversions_vt                                                       0.0\n",
       "dtype: object"
      ]
     },
     "execution_count": 14,
     "metadata": {},
     "output_type": "execute_result"
    }
   ],
   "source": [
    "excluded_spend_df[excluded_spend_df['spend']==0].sum(axis=0)"
   ]
  },
  {
   "cell_type": "code",
   "execution_count": 15,
   "id": "0c2b3b1c-6496-4be7-b8dc-8ce61784aaf1",
   "metadata": {},
   "outputs": [
    {
     "data": {
      "text/plain": [
       "(881041, 34)"
      ]
     },
     "execution_count": 15,
     "metadata": {},
     "output_type": "execute_result"
    }
   ],
   "source": [
    "df.shape"
   ]
  },
  {
   "cell_type": "code",
   "execution_count": 16,
   "id": "7ff5885f-7cd1-43f1-9fb5-267a91661670",
   "metadata": {},
   "outputs": [
    {
     "data": {
      "text/plain": [
       "count    5.286800e+04\n",
       "mean     1.199239e+04\n",
       "std      1.976656e+05\n",
       "min      0.000000e+00\n",
       "25%      0.000000e+00\n",
       "50%      1.000000e+00\n",
       "75%      1.500000e+01\n",
       "max      2.337060e+07\n",
       "Name: impressions, dtype: float64"
      ]
     },
     "execution_count": 16,
     "metadata": {},
     "output_type": "execute_result"
    }
   ],
   "source": [
    "spend_or_df['impressions'].describe()"
   ]
  },
  {
   "cell_type": "code",
   "execution_count": 17,
   "id": "06b95109-f340-4dd8-893d-4efbaf9d4f7d",
   "metadata": {},
   "outputs": [
    {
     "ename": "KeyError",
     "evalue": "'total_conversions'",
     "output_type": "error",
     "traceback": [
      "\u001b[0;31m---------------------------------------------------------------------------\u001b[0m",
      "\u001b[0;31mKeyError\u001b[0m                                  Traceback (most recent call last)",
      "\u001b[0;32m~/.local/share/virtualenvs/python_3_8_test_env-uedWa5dM/lib/python3.8/site-packages/pandas/core/indexes/base.py\u001b[0m in \u001b[0;36mget_loc\u001b[0;34m(self, key, method, tolerance)\u001b[0m\n\u001b[1;32m   3079\u001b[0m             \u001b[0;32mtry\u001b[0m\u001b[0;34m:\u001b[0m\u001b[0;34m\u001b[0m\u001b[0;34m\u001b[0m\u001b[0m\n\u001b[0;32m-> 3080\u001b[0;31m                 \u001b[0;32mreturn\u001b[0m \u001b[0mself\u001b[0m\u001b[0;34m.\u001b[0m\u001b[0m_engine\u001b[0m\u001b[0;34m.\u001b[0m\u001b[0mget_loc\u001b[0m\u001b[0;34m(\u001b[0m\u001b[0mcasted_key\u001b[0m\u001b[0;34m)\u001b[0m\u001b[0;34m\u001b[0m\u001b[0;34m\u001b[0m\u001b[0m\n\u001b[0m\u001b[1;32m   3081\u001b[0m             \u001b[0;32mexcept\u001b[0m \u001b[0mKeyError\u001b[0m \u001b[0;32mas\u001b[0m \u001b[0merr\u001b[0m\u001b[0;34m:\u001b[0m\u001b[0;34m\u001b[0m\u001b[0;34m\u001b[0m\u001b[0m\n",
      "\u001b[0;32mpandas/_libs/index.pyx\u001b[0m in \u001b[0;36mpandas._libs.index.IndexEngine.get_loc\u001b[0;34m()\u001b[0m\n",
      "\u001b[0;32mpandas/_libs/index.pyx\u001b[0m in \u001b[0;36mpandas._libs.index.IndexEngine.get_loc\u001b[0;34m()\u001b[0m\n",
      "\u001b[0;32mpandas/_libs/hashtable_class_helper.pxi\u001b[0m in \u001b[0;36mpandas._libs.hashtable.PyObjectHashTable.get_item\u001b[0;34m()\u001b[0m\n",
      "\u001b[0;32mpandas/_libs/hashtable_class_helper.pxi\u001b[0m in \u001b[0;36mpandas._libs.hashtable.PyObjectHashTable.get_item\u001b[0;34m()\u001b[0m\n",
      "\u001b[0;31mKeyError\u001b[0m: 'total_conversions'",
      "\nThe above exception was the direct cause of the following exception:\n",
      "\u001b[0;31mKeyError\u001b[0m                                  Traceback (most recent call last)",
      "\u001b[0;32m<ipython-input-17-b978e24fa438>\u001b[0m in \u001b[0;36m<module>\u001b[0;34m\u001b[0m\n\u001b[1;32m      1\u001b[0m all_spend_df = spend_conv_total_df = df.loc[(df['spend'] == 0) &(df['impressions'] == 0) & (df['clicks'] == 0) \n\u001b[0;32m----> 2\u001b[0;31m                                & (df['total_conversions'] == 0)]\n\u001b[0m\u001b[1;32m      3\u001b[0m \u001b[0mspend_conv_total_df\u001b[0m\u001b[0;34m.\u001b[0m\u001b[0mshape\u001b[0m\u001b[0;34m\u001b[0m\u001b[0;34m\u001b[0m\u001b[0m\n",
      "\u001b[0;32m~/.local/share/virtualenvs/python_3_8_test_env-uedWa5dM/lib/python3.8/site-packages/pandas/core/frame.py\u001b[0m in \u001b[0;36m__getitem__\u001b[0;34m(self, key)\u001b[0m\n\u001b[1;32m   3022\u001b[0m             \u001b[0;32mif\u001b[0m \u001b[0mself\u001b[0m\u001b[0;34m.\u001b[0m\u001b[0mcolumns\u001b[0m\u001b[0;34m.\u001b[0m\u001b[0mnlevels\u001b[0m \u001b[0;34m>\u001b[0m \u001b[0;36m1\u001b[0m\u001b[0;34m:\u001b[0m\u001b[0;34m\u001b[0m\u001b[0;34m\u001b[0m\u001b[0m\n\u001b[1;32m   3023\u001b[0m                 \u001b[0;32mreturn\u001b[0m \u001b[0mself\u001b[0m\u001b[0;34m.\u001b[0m\u001b[0m_getitem_multilevel\u001b[0m\u001b[0;34m(\u001b[0m\u001b[0mkey\u001b[0m\u001b[0;34m)\u001b[0m\u001b[0;34m\u001b[0m\u001b[0;34m\u001b[0m\u001b[0m\n\u001b[0;32m-> 3024\u001b[0;31m             \u001b[0mindexer\u001b[0m \u001b[0;34m=\u001b[0m \u001b[0mself\u001b[0m\u001b[0;34m.\u001b[0m\u001b[0mcolumns\u001b[0m\u001b[0;34m.\u001b[0m\u001b[0mget_loc\u001b[0m\u001b[0;34m(\u001b[0m\u001b[0mkey\u001b[0m\u001b[0;34m)\u001b[0m\u001b[0;34m\u001b[0m\u001b[0;34m\u001b[0m\u001b[0m\n\u001b[0m\u001b[1;32m   3025\u001b[0m             \u001b[0;32mif\u001b[0m \u001b[0mis_integer\u001b[0m\u001b[0;34m(\u001b[0m\u001b[0mindexer\u001b[0m\u001b[0;34m)\u001b[0m\u001b[0;34m:\u001b[0m\u001b[0;34m\u001b[0m\u001b[0;34m\u001b[0m\u001b[0m\n\u001b[1;32m   3026\u001b[0m                 \u001b[0mindexer\u001b[0m \u001b[0;34m=\u001b[0m \u001b[0;34m[\u001b[0m\u001b[0mindexer\u001b[0m\u001b[0;34m]\u001b[0m\u001b[0;34m\u001b[0m\u001b[0;34m\u001b[0m\u001b[0m\n",
      "\u001b[0;32m~/.local/share/virtualenvs/python_3_8_test_env-uedWa5dM/lib/python3.8/site-packages/pandas/core/indexes/base.py\u001b[0m in \u001b[0;36mget_loc\u001b[0;34m(self, key, method, tolerance)\u001b[0m\n\u001b[1;32m   3080\u001b[0m                 \u001b[0;32mreturn\u001b[0m \u001b[0mself\u001b[0m\u001b[0;34m.\u001b[0m\u001b[0m_engine\u001b[0m\u001b[0;34m.\u001b[0m\u001b[0mget_loc\u001b[0m\u001b[0;34m(\u001b[0m\u001b[0mcasted_key\u001b[0m\u001b[0;34m)\u001b[0m\u001b[0;34m\u001b[0m\u001b[0;34m\u001b[0m\u001b[0m\n\u001b[1;32m   3081\u001b[0m             \u001b[0;32mexcept\u001b[0m \u001b[0mKeyError\u001b[0m \u001b[0;32mas\u001b[0m \u001b[0merr\u001b[0m\u001b[0;34m:\u001b[0m\u001b[0;34m\u001b[0m\u001b[0;34m\u001b[0m\u001b[0m\n\u001b[0;32m-> 3082\u001b[0;31m                 \u001b[0;32mraise\u001b[0m \u001b[0mKeyError\u001b[0m\u001b[0;34m(\u001b[0m\u001b[0mkey\u001b[0m\u001b[0;34m)\u001b[0m \u001b[0;32mfrom\u001b[0m \u001b[0merr\u001b[0m\u001b[0;34m\u001b[0m\u001b[0;34m\u001b[0m\u001b[0m\n\u001b[0m\u001b[1;32m   3083\u001b[0m \u001b[0;34m\u001b[0m\u001b[0m\n\u001b[1;32m   3084\u001b[0m         \u001b[0;32mif\u001b[0m \u001b[0mtolerance\u001b[0m \u001b[0;32mis\u001b[0m \u001b[0;32mnot\u001b[0m \u001b[0;32mNone\u001b[0m\u001b[0;34m:\u001b[0m\u001b[0;34m\u001b[0m\u001b[0;34m\u001b[0m\u001b[0m\n",
      "\u001b[0;31mKeyError\u001b[0m: 'total_conversions'"
     ]
    }
   ],
   "source": [
    "all_spend_df = spend_conv_total_df = df.loc[(df['spend'] == 0) &(df['impressions'] == 0) & (df['clicks'] == 0) \n",
    "                               & (df['total_conversions'] == 0)]\n",
    "spend_conv_total_df.shape"
   ]
  },
  {
   "cell_type": "code",
   "execution_count": null,
   "id": "a8ea6cd7-08d5-4f42-b390-42ba293c0ebd",
   "metadata": {},
   "outputs": [],
   "source": [
    "spend_imp_df = df.loc[(df['spend'] == 0) &(df['impressions'] != 0)]\n",
    "spend_imp_df.shape"
   ]
  },
  {
   "cell_type": "code",
   "execution_count": null,
   "id": "803aec1f-2426-4465-890c-4066c827296a",
   "metadata": {},
   "outputs": [],
   "source": [
    "spend_imp_df.value_counts('channel')"
   ]
  },
  {
   "cell_type": "code",
   "execution_count": null,
   "id": "4b8a4a82-2480-43be-bca4-bec6fe1fbdfb",
   "metadata": {},
   "outputs": [],
   "source": [
    "spend_clicks_df = df.loc[(df['spend'] == 0) &(df['impressions'] != 0) & (df['clicks'] != 0)]\n",
    "spend_clicks_df.shape"
   ]
  },
  {
   "cell_type": "code",
   "execution_count": null,
   "id": "c2ea60dc-82f3-48ac-8ced-6639a0ddb122",
   "metadata": {},
   "outputs": [],
   "source": [
    "spend_conv_ct_df = df.loc[(df['spend'] == 0) &(df['impressions'] != 0) & (df['clicks'] != 0) \n",
    "                               & (df['all_conversions_ct'] != 0)]\n",
    "spend_conv_ct_df.shape"
   ]
  },
  {
   "cell_type": "code",
   "execution_count": null,
   "id": "244b7f1d-d569-43d5-a0a8-0ed9df5da03c",
   "metadata": {},
   "outputs": [],
   "source": [
    "spend_conv_vt_df = df.loc[(df['spend'] == 0) &(df['impressions'] != 0) & (df['clicks'] != 0) \n",
    "                               & (df['all_conversions_vt'] != 0)]\n",
    "spend_conv_vt_df.shape"
   ]
  },
  {
   "cell_type": "code",
   "execution_count": null,
   "id": "48ab702e-df3f-4fa2-84bf-757cdee7e6ee",
   "metadata": {},
   "outputs": [],
   "source": [
    "spend_conv_vt_df.value_counts('channel')"
   ]
  },
  {
   "cell_type": "code",
   "execution_count": null,
   "id": "68c5c39c-ec45-4f8b-9e19-8c67fd2d00a1",
   "metadata": {},
   "outputs": [],
   "source": [
    "spend_conv_total_df = df.loc[(df['spend'] == 0) &(df['impressions'] != 0) & (df['clicks'] != 0) \n",
    "                               & (df['total_conversions'] != 0)]\n",
    "spend_conv_total_df.shape"
   ]
  },
  {
   "cell_type": "code",
   "execution_count": null,
   "id": "4d1e4538-ccc0-4532-842f-8d0fc177ec51",
   "metadata": {},
   "outputs": [],
   "source": [
    "spend_conv_total_df[['all_conversions_ct', 'all_conversions_vt','total_conversions']].sum()"
   ]
  },
  {
   "cell_type": "code",
   "execution_count": null,
   "id": "b7c4ce0a-e7ce-4d34-a10c-5a66bcdb8d6b",
   "metadata": {},
   "outputs": [],
   "source": [
    "spend_conv_total_df.groupby('channel')[['all_conversions_ct', 'all_conversions_vt','total_conversions']].sum()"
   ]
  },
  {
   "cell_type": "code",
   "execution_count": null,
   "id": "b3e9ce59-b28b-4a2e-826e-7278009ecd82",
   "metadata": {},
   "outputs": [],
   "source": [
    "spend_both_conv_df = df.loc[(df['spend'] == 0) &(df['impressions'] != 0) & (df['clicks'] != 0) \n",
    "                               & (df['all_conversions_vt'] != 0) & (df['all_conversions_ct'] != 0)]\n",
    "spend_both_conv_df.shape"
   ]
  },
  {
   "cell_type": "code",
   "execution_count": null,
   "id": "a91df5eb-a717-401d-a74f-f952beaf09eb",
   "metadata": {},
   "outputs": [],
   "source": [
    "#look at date before row (21357204)\n",
    "spend_both_conv_df.sort_values(by='date')"
   ]
  },
  {
   "cell_type": "code",
   "execution_count": null,
   "id": "fb963841-b896-4952-9727-9a22f2d1d9ba",
   "metadata": {},
   "outputs": [],
   "source": [
    "#check dates before\n",
    "spend_check_1_df = df[(df['date'] == '2020-02-14') & (df['campaign'] == 'X-UNKNOWN-X')]\n",
    "spend_check_1_df"
   ]
  },
  {
   "cell_type": "code",
   "execution_count": null,
   "id": "9eded0f6-da15-41a3-93e8-9f473ba66ed8",
   "metadata": {},
   "outputs": [],
   "source": [
    "spend_check_4_df = df[(df['date'] == '2020-02-16') & (df['campaign'] == 'X-UNKNOWN-X')]\n",
    "spend_check_4_df"
   ]
  },
  {
   "cell_type": "code",
   "execution_count": null,
   "id": "7968d175-ada6-4e51-a9c1-1c9d2fed13c6",
   "metadata": {},
   "outputs": [],
   "source": [
    "spend_check_5_df = df[(df['campaign'] == 'X-UNKNOWN-X') & (df['date'] >= '2020-02-14') & (df['date'] < '2020-03-01')]\n",
    "spend_check_5_df"
   ]
  },
  {
   "cell_type": "code",
   "execution_count": null,
   "id": "b819dda2-eaa3-479f-9857-1b93b934729b",
   "metadata": {},
   "outputs": [],
   "source": [
    "spend_check_2_df = spend_check_1_df[(spend_check_1_df['spend'] == 0) & \n",
    "                 (spend_check_1_df['impressions'] != 0)]\n",
    "spend_check_2_df.shape"
   ]
  },
  {
   "cell_type": "code",
   "execution_count": null,
   "id": "b3a9c3f8-d876-49e2-9a64-8e346377666b",
   "metadata": {},
   "outputs": [],
   "source": [
    "spend_check_3_df = df[(df['date'] == '2020-02-15') & (df['campaign'] == 'NYTI_AUC_COREXXX_COUSA_TW_SO_WTCP_TAFIFOODXX')]\n",
    "spend_check_3_df"
   ]
  },
  {
   "cell_type": "code",
   "execution_count": null,
   "id": "1f442acc-e652-44c0-b61b-6219d566676e",
   "metadata": {},
   "outputs": [],
   "source": [
    "spend_check_7_df = df[(df['date'] <= '2020-11-10') & (df['campaign'] == '2020_HS_CORE_BRA_SWAY_NA_NA_Reddit')]\n",
    "spend_check_7_df"
   ]
  },
  {
   "cell_type": "code",
   "execution_count": null,
   "id": "473dccfa-14de-4fe4-8908-65147b263e80",
   "metadata": {},
   "outputs": [],
   "source": [
    "spend_df['impressions'].describe(percentiles = [0.1,0.2,0.9])"
   ]
  },
  {
   "cell_type": "code",
   "execution_count": null,
   "id": "fff2ffa5-1648-4770-b465-6de4840b6661",
   "metadata": {},
   "outputs": [],
   "source": [
    "spend_df['total_conversions'].describe(percentiles = [0.1,0.2,0.95])"
   ]
  },
  {
   "cell_type": "code",
   "execution_count": null,
   "id": "363c7b7e-2ca7-421f-b48b-e7c066fdf6c6",
   "metadata": {},
   "outputs": [],
   "source": [
    "spend_df[spend_df['impressions'] > 10000].shape"
   ]
  },
  {
   "cell_type": "code",
   "execution_count": null,
   "id": "db754ca7-9e1f-4aa0-86c8-c520d7e2c13c",
   "metadata": {},
   "outputs": [],
   "source": [
    "spend_df[spend_df['impressions'] > 100000].shape"
   ]
  },
  {
   "cell_type": "code",
   "execution_count": null,
   "id": "eb1e2867-a789-4dd8-b22b-58a915a9c7ef",
   "metadata": {},
   "outputs": [],
   "source": [
    "mill_df = spend_df[spend_df['impressions'] > 1000000]\n",
    "mill_df"
   ]
  },
  {
   "cell_type": "code",
   "execution_count": null,
   "id": "2b9da911-9f6a-40e6-bac8-52c6719aec72",
   "metadata": {},
   "outputs": [],
   "source": [
    "spend_both_conv_df.sort_values(by='date').head()"
   ]
  },
  {
   "cell_type": "code",
   "execution_count": null,
   "id": "a6ce1a20-e1ab-40c8-9dda-1613c6c647cc",
   "metadata": {},
   "outputs": [],
   "source": [
    "spend_df.value_counts(['marketing_subinitiative'])"
   ]
  },
  {
   "cell_type": "code",
   "execution_count": null,
   "id": "15797c9e-8f04-4d5c-9896-030c5a99ae82",
   "metadata": {},
   "outputs": [],
   "source": [
    "spend_conv_total_df.value_counts(['channel'])"
   ]
  },
  {
   "cell_type": "markdown",
   "id": "b4569133-214e-465a-ae2d-7781a5489cb6",
   "metadata": {},
   "source": [
    "# 0.4 Column by Column 'X-UNKNOWN-X' Exploration "
   ]
  },
  {
   "cell_type": "markdown",
   "id": "f1347be2-08ef-412f-add7-ce293ca0d3a5",
   "metadata": {},
   "source": [
    "# put this in separate notebook "
   ]
  },
  {
   "cell_type": "markdown",
   "id": "8af656b7-8bd1-4fa9-82fd-22d5bc60a033",
   "metadata": {},
   "source": [
    "## Account"
   ]
  },
  {
   "cell_type": "code",
   "execution_count": null,
   "id": "ff026345-df30-49d4-96c5-4094abfbac5f",
   "metadata": {},
   "outputs": [],
   "source": [
    "df['account'].value_counts()"
   ]
  },
  {
   "cell_type": "code",
   "execution_count": null,
   "id": "58ae0dbc-cbdd-42c5-afbf-942185a9fe2f",
   "metadata": {},
   "outputs": [],
   "source": [
    "df['account'].value_counts(normalize = True)"
   ]
  },
  {
   "cell_type": "code",
   "execution_count": null,
   "id": "c1a88929-ef66-4983-a172-e28c7401584e",
   "metadata": {},
   "outputs": [],
   "source": [
    "df[df['account'] == 'X-UNKNOWN-X']['total_conversions'].sum()"
   ]
  },
  {
   "cell_type": "code",
   "execution_count": null,
   "id": "9d693b18-3d1a-45e2-8fed-aa8b8b8ceb41",
   "metadata": {},
   "outputs": [],
   "source": [
    "df[df['account'] == 'X-UNKNOWN-X']['all_conversions_vt'].sum()"
   ]
  },
  {
   "cell_type": "code",
   "execution_count": null,
   "id": "83ab2c8f-9c29-48cb-8a05-652531779a30",
   "metadata": {},
   "outputs": [],
   "source": [
    "df[df['account'] == 'X-UNKNOWN-X'].head()"
   ]
  },
  {
   "cell_type": "markdown",
   "id": "1ca4186d-6d9c-4e9a-8c62-fcc54428e2ea",
   "metadata": {},
   "source": [
    "## Campaign"
   ]
  },
  {
   "cell_type": "code",
   "execution_count": null,
   "id": "5e7c6639-b06e-4f34-adbc-a759fb89f1b3",
   "metadata": {},
   "outputs": [],
   "source": [
    "print(df['account'].unique())"
   ]
  },
  {
   "cell_type": "code",
   "execution_count": null,
   "id": "5d20070a-9363-4616-b2e5-efa594780912",
   "metadata": {},
   "outputs": [],
   "source": [
    "percent_campaign_unknown_df = df['campaign'].value_counts(normalize = True)\n",
    "percent_campaign_unknown_df['X-UNKNOWN-X']"
   ]
  },
  {
   "cell_type": "code",
   "execution_count": null,
   "id": "5d4bf144-613b-4ed3-a1a1-3048ce8141fb",
   "metadata": {},
   "outputs": [],
   "source": [
    "campaign_unknown = df[df['campaign'] == 'X-UNKNOWN-X']\n",
    "campaign_unknown.shape"
   ]
  },
  {
   "cell_type": "code",
   "execution_count": null,
   "id": "da757584-80bd-4a25-9fd1-f0cf9648d813",
   "metadata": {},
   "outputs": [],
   "source": [
    "campaign_unknown.head(10)"
   ]
  },
  {
   "cell_type": "markdown",
   "id": "0aebc325-aa0a-4f1c-bd04-29fc1305d05d",
   "metadata": {},
   "source": [
    "## Match"
   ]
  },
  {
   "cell_type": "code",
   "execution_count": null,
   "id": "2e70de41-5ebc-4038-82ce-f01b4f32e90d",
   "metadata": {},
   "outputs": [],
   "source": [
    "percent_match_unknown_df = df['_match'].value_counts(normalize = True)\n",
    "percent_match_unknown_df['X-UNKNOWN-X']"
   ]
  },
  {
   "cell_type": "code",
   "execution_count": null,
   "id": "5c3ca0c8-d9b0-4bf5-90e3-b60dbc5e2eab",
   "metadata": {},
   "outputs": [],
   "source": [
    "match_unknown_df = df[df['_match'] == 'X-UNKNOWN-X']\n",
    "match_unknown_df.shape"
   ]
  },
  {
   "cell_type": "markdown",
   "id": "f225ae65-7c1c-4762-b73f-6abca16944a8",
   "metadata": {},
   "source": [
    "**Seems like these 34 rows all have to do with Twitter and the unknown variables are throughout metadata/cols**"
   ]
  },
  {
   "cell_type": "code",
   "execution_count": null,
   "id": "3aff6e26-d653-4046-9aae-7eb2d09d4b89",
   "metadata": {},
   "outputs": [],
   "source": [
    "match_unknown_df.sort_values(by=['date'])"
   ]
  },
  {
   "cell_type": "markdown",
   "id": "c25641d7-b3b3-425e-b79a-7db07b38b114",
   "metadata": {},
   "source": [
    "## Campaign Objective"
   ]
  },
  {
   "cell_type": "code",
   "execution_count": null,
   "id": "1fb60c35-1a88-451c-9d1a-cb50f709e131",
   "metadata": {},
   "outputs": [],
   "source": [
    "campaign_obj_df = df[df['campaign_objective'] == 'X-UNKNOWN-X']\n",
    "campaign_obj_df.shape"
   ]
  },
  {
   "cell_type": "code",
   "execution_count": null,
   "id": "8ae6afaa-a19e-4cea-bb77-72c95caac5cc",
   "metadata": {},
   "outputs": [],
   "source": [
    "df.value_counts('campaign_objective')"
   ]
  },
  {
   "cell_type": "code",
   "execution_count": null,
   "id": "2e99ec49-5f24-4374-82ce-4fee30d44d19",
   "metadata": {},
   "outputs": [],
   "source": [
    "df['campaign_objective'].value_counts(normalize = True)"
   ]
  },
  {
   "cell_type": "code",
   "execution_count": null,
   "id": "5f241e8a-cea7-4f9a-97d2-0b3bb9f50a09",
   "metadata": {},
   "outputs": [],
   "source": [
    "df[df['campaign_objective'] == 'X-UNKNOWN-X']['total_conversions'].sum()"
   ]
  },
  {
   "cell_type": "code",
   "execution_count": null,
   "id": "693a9389-0b96-4923-91d2-0500330fd442",
   "metadata": {},
   "outputs": [],
   "source": [
    "df[df['campaign_objective'] == 'X-UNKNOWN-X']['all_conversions_vt'].sum()"
   ]
  },
  {
   "cell_type": "code",
   "execution_count": null,
   "id": "b40cf279-a3b1-4637-88cf-e43fd951e082",
   "metadata": {},
   "outputs": [],
   "source": [
    "df[df['campaign_objective'] == 'X-UNKNOWN-X']['all_conversions_ct'].sum()"
   ]
  },
  {
   "cell_type": "code",
   "execution_count": null,
   "id": "b99e676e-78bd-4444-a28d-3cbace51d7b6",
   "metadata": {},
   "outputs": [],
   "source": [
    "#seems to have unknowns for entire date range\n",
    "campaign_obj_df.sort_values(by=['date'])"
   ]
  },
  {
   "cell_type": "code",
   "execution_count": null,
   "id": "1a6739ce-67d6-4f49-8a80-2f60a3558e62",
   "metadata": {},
   "outputs": [],
   "source": [
    "campaign_obj_df.value_counts('marketing_subinitiative')"
   ]
  },
  {
   "cell_type": "code",
   "execution_count": null,
   "id": "7adb994e-9221-48bb-98e5-2de83701dd8e",
   "metadata": {},
   "outputs": [],
   "source": [
    "campaign_obj_df.value_counts('channel')"
   ]
  },
  {
   "cell_type": "code",
   "execution_count": null,
   "id": "4b7cc2b4-6457-4d40-9500-bf0cba8912b9",
   "metadata": {},
   "outputs": [],
   "source": [
    "campaign_obj_df[['marketing_subinitiative', 'channel']].loc[(df['marketing_subinitiative'] == 'X-UNKNOWN-X') & \n",
    "                                                            (df['channel'] == 'X-UNKNOWN-X')]"
   ]
  },
  {
   "cell_type": "markdown",
   "id": "2f9aece5-19b0-494d-a420-0e1021b332a2",
   "metadata": {},
   "source": [
    "## Year, Quarter, Month, week, week_start, Date"
   ]
  },
  {
   "cell_type": "code",
   "execution_count": null,
   "id": "c48eeb46-38f2-4662-a9f5-ab0af9582447",
   "metadata": {},
   "outputs": [],
   "source": [
    "df[df['Year'] == 'X-UNKNOWN-X'].shape"
   ]
  },
  {
   "cell_type": "code",
   "execution_count": null,
   "id": "d54614aa-3a61-4ae4-bf42-26a530d717af",
   "metadata": {},
   "outputs": [],
   "source": [
    "df[df['Quarter'] == 'X-UNKNOWN-X'].shape"
   ]
  },
  {
   "cell_type": "code",
   "execution_count": null,
   "id": "c6c1f514-a26a-4d11-afeb-f36089b9c496",
   "metadata": {},
   "outputs": [],
   "source": [
    "df[df['Month'] == 'X-UNKNOWN-X'].shape"
   ]
  },
  {
   "cell_type": "code",
   "execution_count": null,
   "id": "452aa2db-7b26-4abb-837d-e22f5173bd3f",
   "metadata": {},
   "outputs": [],
   "source": [
    "df[df['week'] == 'X-UNKNOWN-X'].shape"
   ]
  },
  {
   "cell_type": "code",
   "execution_count": null,
   "id": "05a637f3-251a-4410-a5aa-aa8cefead3aa",
   "metadata": {},
   "outputs": [],
   "source": [
    "df[df['week_start'] == 'X-UNKNOWN-X'].shape"
   ]
  },
  {
   "cell_type": "code",
   "execution_count": null,
   "id": "d450f5bf-a629-48b9-b049-3a95af393b14",
   "metadata": {},
   "outputs": [],
   "source": [
    "df[df['date'] == 'X-UNKNOWN-X'].shape"
   ]
  },
  {
   "cell_type": "markdown",
   "id": "b84d0ce1-e74d-49f7-848a-a9c6992abf03",
   "metadata": {},
   "source": [
    "## Marketing Initiative (Tactic)"
   ]
  },
  {
   "cell_type": "code",
   "execution_count": null,
   "id": "9c9e62be-0d53-4c6d-a9b8-706248fece57",
   "metadata": {},
   "outputs": [],
   "source": [
    "df[df['marketing_initiative'] == 'X-UNKNOWN-X'].shape"
   ]
  },
  {
   "cell_type": "code",
   "execution_count": null,
   "id": "795dcd35-b272-49f0-a629-61874dd086bd",
   "metadata": {},
   "outputs": [],
   "source": [
    "#what do normal values look like\n",
    "df.value_counts('marketing_initiative')"
   ]
  },
  {
   "cell_type": "code",
   "execution_count": null,
   "id": "a0da9aed-7363-4600-aa46-ca868b2ddca9",
   "metadata": {},
   "outputs": [],
   "source": [
    "df['marketing_initiative'].value_counts(normalize = True)"
   ]
  },
  {
   "cell_type": "code",
   "execution_count": null,
   "id": "e5c68718-64f0-4624-accb-77e4343ee263",
   "metadata": {
    "tags": []
   },
   "outputs": [],
   "source": [
    "df[df['marketing_initiative']== 'X-UNKNOWN-X'].shape"
   ]
  },
  {
   "cell_type": "code",
   "execution_count": null,
   "id": "59ded4f2-3d99-4d38-8d5f-a1f0b76b9662",
   "metadata": {},
   "outputs": [],
   "source": [
    "df[df['marketing_initiative'] == 'X-UNKNOWN-X']['total_conversions'].sum()"
   ]
  },
  {
   "cell_type": "code",
   "execution_count": null,
   "id": "fc1ff8fc-a876-4b1a-8cac-6abb051d47ba",
   "metadata": {},
   "outputs": [],
   "source": [
    "df[df['marketing_initiative'] == 'X-UNKNOWN-X']['all_conversions_vt'].sum()"
   ]
  },
  {
   "cell_type": "code",
   "execution_count": null,
   "id": "334622c0-2811-4576-a795-cb335c027007",
   "metadata": {},
   "outputs": [],
   "source": [
    "df[df['marketing_initiative'] == 'X-UNKNOWN-X']['all_conversions_ct'].sum()"
   ]
  },
  {
   "cell_type": "code",
   "execution_count": null,
   "id": "d294e773-0432-47d6-b321-2e0dbe5be5b3",
   "metadata": {},
   "outputs": [],
   "source": [
    "#didn't change anything df[df['marketing_initiative'] == 'X-UNKNOWN-X']['total_conversions'].sum()\n",
    "\n",
    "#any campaigns with 'BAU' -> Business As Usual\n",
    "df.loc[(df['marketing_initiative'] == 'X-UNKNOWN-X') & \n",
    "       (df['campaign'].str.contains('BAU')), 'marketing_initiative'] = 'Business As Usual'\n",
    "df[df['marketing_initiative']== 'X-UNKNOWN-X'].shape"
   ]
  },
  {
   "cell_type": "code",
   "execution_count": null,
   "id": "6f180987-84ba-45bb-86d4-b39dfb9ce864",
   "metadata": {},
   "outputs": [],
   "source": [
    "#didn't change anything\n",
    "\n",
    "\n",
    "# #One Day Sale\n",
    "# df.loc[(df['marketing_initiative'] == 'X-UNKNOWN-X') & \n",
    "#        (df['campaign'].str.contains('ODS')), 'marketing_initiative'] = 'One Day Sale'\n",
    "\n",
    "# #Gifting\n",
    "# #didn't change anything\n",
    "# df.loc[(df['marketing_initiative'] == 'X-UNKNOWN-X') & \n",
    "#        (df['campaign'].str.contains('GFT')), 'marketing_initiative'] = 'Gifting'\n",
    "       \n",
    "       \n",
    "# #Testing\n",
    "# df.loc[(df['marketing_initiative'] == 'X-UNKNOWN-X') & \n",
    "#        (df['campaign'].str.contains('TST')), 'marketing_initiative'] = 'Testing'    "
   ]
  },
  {
   "cell_type": "code",
   "execution_count": null,
   "id": "82e47b81-fd37-45d1-966d-fdccb85af1f2",
   "metadata": {},
   "outputs": [],
   "source": [
    "df[df['marketing_initiative']== 'X-UNKNOWN-X'].value_counts('channel')"
   ]
  },
  {
   "cell_type": "code",
   "execution_count": null,
   "id": "ea60085d-9719-4145-ad03-6e7147805785",
   "metadata": {},
   "outputs": [],
   "source": [
    "paid_search_mkt_init_df = df.loc[(df['marketing_initiative'] == 'X-UNKNOWN-X') & \n",
    "       (df['channel'] == 'Paid Search')]\n",
    "paid_search_mkt_init_df.value_counts('campaign')"
   ]
  },
  {
   "cell_type": "code",
   "execution_count": null,
   "id": "22b2886f-9725-46c9-8793-59855bbb0827",
   "metadata": {},
   "outputs": [],
   "source": [
    "unknown_channel_mkt_init_df = df.loc[(df['marketing_initiative'] == 'X-UNKNOWN-X') & \n",
    "       (df['channel'] == 'X-UNKNOWN-X')]\n",
    "unknown_channel_mkt_init_df.value_counts('campaign')"
   ]
  },
  {
   "cell_type": "code",
   "execution_count": null,
   "id": "a305debe-aa64-459a-80b5-74f8dfef8142",
   "metadata": {},
   "outputs": [],
   "source": [
    "social_mkt_init_df = df.loc[(df['marketing_initiative'] == 'X-UNKNOWN-X') & \n",
    "       (df['channel'] == 'Social')]\n",
    "social_mkt_init_df.value_counts('campaign')"
   ]
  },
  {
   "cell_type": "code",
   "execution_count": null,
   "id": "3e4a4f38-b589-44f8-baff-3b1d959fd734",
   "metadata": {},
   "outputs": [],
   "source": [
    "youtube_mkt_init_df = df.loc[(df['marketing_initiative'] == 'X-UNKNOWN-X') & \n",
    "       (df['channel'] == 'Youtube')]\n",
    "youtube_mkt_init_df.value_counts('campaign')"
   ]
  },
  {
   "cell_type": "code",
   "execution_count": null,
   "id": "3756a385-70a0-4d5c-827c-284f5b9d2823",
   "metadata": {},
   "outputs": [],
   "source": [
    "display_mkt_init_df = df.loc[(df['marketing_initiative'] == 'X-UNKNOWN-X') & \n",
    "       (df['channel'] == 'Display')]\n",
    "display_mkt_init_df.value_counts('campaign')"
   ]
  },
  {
   "cell_type": "markdown",
   "id": "fd2e967b-b58f-45c4-b2d1-5639bd22ea2c",
   "metadata": {},
   "source": [
    " "
   ]
  },
  {
   "cell_type": "markdown",
   "id": "3b11b1ca-83c4-46c5-bcbe-bfda02697c85",
   "metadata": {},
   "source": [
    "## Marketing Segment"
   ]
  },
  {
   "cell_type": "code",
   "execution_count": null,
   "id": "55000f26-9486-4c98-ad6d-25d7b82fad68",
   "metadata": {},
   "outputs": [],
   "source": [
    "df[df['marketing_segment']== 'X-UNKNOWN-X'].shape"
   ]
  },
  {
   "cell_type": "code",
   "execution_count": null,
   "id": "6988b5ed-e3d3-43d1-8d27-1781c36ab56e",
   "metadata": {},
   "outputs": [],
   "source": [
    "df['marketing_segment'].value_counts(normalize = True)"
   ]
  },
  {
   "cell_type": "code",
   "execution_count": null,
   "id": "59f05d61-cd08-49a9-baa2-86af501463d4",
   "metadata": {},
   "outputs": [],
   "source": [
    "df[df['marketing_segment'] == 'X-UNKNOWN-X']['total_conversions'].sum()"
   ]
  },
  {
   "cell_type": "code",
   "execution_count": null,
   "id": "6bcab088-681f-4d2e-ba7b-790f062896ab",
   "metadata": {},
   "outputs": [],
   "source": [
    "df[df['marketing_segment'] == 'X-UNKNOWN-X']['all_conversions_vt'].sum()"
   ]
  },
  {
   "cell_type": "code",
   "execution_count": null,
   "id": "d7ed4461-b80e-4fa7-a5d5-7aa89c9ed05b",
   "metadata": {},
   "outputs": [],
   "source": [
    "#what do normal values look like\n",
    "df.value_counts('marketing_segment')"
   ]
  },
  {
   "cell_type": "code",
   "execution_count": null,
   "id": "02fd60e7-27dc-45e3-a794-cd4d0333236e",
   "metadata": {},
   "outputs": [],
   "source": [
    "df[df['marketing_segment']== 'X-UNKNOWN-X'].value_counts('channel')"
   ]
  },
  {
   "cell_type": "code",
   "execution_count": null,
   "id": "10872f0e-f3b2-4292-9af1-f3754ea233d8",
   "metadata": {},
   "outputs": [],
   "source": [
    "unknown_mkt_segment_df = df.loc[(df['marketing_segment'] == 'X-UNKNOWN-X') & \n",
    "       (df['channel'] == 'X-UNKNOWN-X')]\n",
    "unknown_mkt_segment_df.value_counts('campaign')"
   ]
  },
  {
   "cell_type": "code",
   "execution_count": null,
   "id": "efa62b68-b8f3-4064-a9b2-832bff39fedf",
   "metadata": {},
   "outputs": [],
   "source": [
    "paid_search_mkt_segment_df = df.loc[(df['marketing_segment'] == 'X-UNKNOWN-X') & \n",
    "       (df['channel'] == 'Paid Search')]\n",
    "paid_search_mkt_segment_df.value_counts('campaign')"
   ]
  },
  {
   "cell_type": "code",
   "execution_count": null,
   "id": "1a2f65b0-fa64-41e3-831c-721a70540fad",
   "metadata": {},
   "outputs": [],
   "source": [
    "social_mkt_segment_df = df.loc[(df['marketing_segment'] == 'X-UNKNOWN-X') & \n",
    "       (df['channel'] == 'Social')]\n",
    "social_mkt_segment_df.value_counts('campaign')"
   ]
  },
  {
   "cell_type": "code",
   "execution_count": null,
   "id": "7fb60493-b4bb-4549-adc0-37cb5bfe220d",
   "metadata": {},
   "outputs": [],
   "source": [
    "display_mkt_segment_df = df.loc[(df['marketing_segment'] == 'X-UNKNOWN-X') & \n",
    "       (df['channel'] == 'Display')]\n",
    "display_mkt_segment_df.value_counts('campaign')"
   ]
  },
  {
   "cell_type": "code",
   "execution_count": null,
   "id": "552c18f5-9f6e-413c-b152-cbeea3456782",
   "metadata": {},
   "outputs": [],
   "source": [
    "other_mkt_segment_df = df.loc[(df['marketing_segment'] == 'X-UNKNOWN-X') & \n",
    "       (df['channel'] == 'Other')]\n",
    "other_mkt_segment_df.value_counts('campaign')"
   ]
  },
  {
   "cell_type": "code",
   "execution_count": null,
   "id": "e076856b-8f7b-4da9-9a23-2065f48a235d",
   "metadata": {},
   "outputs": [],
   "source": [
    "youtube_mkt_segment_df = df.loc[(df['marketing_segment'] == 'X-UNKNOWN-X') & \n",
    "       (df['channel'] == 'Youtube')]\n",
    "youtube_mkt_segment_df.value_counts('campaign')"
   ]
  },
  {
   "cell_type": "code",
   "execution_count": null,
   "id": "df2c7e0d-d806-42eb-bd3e-ffb00d670bb9",
   "metadata": {},
   "outputs": [],
   "source": [
    "video_mkt_segment_df = df.loc[(df['marketing_segment'] == 'X-UNKNOWN-X') & \n",
    "       (df['channel'] == 'Video')]\n",
    "video_mkt_segment_df.value_counts('campaign')"
   ]
  },
  {
   "cell_type": "markdown",
   "id": "1578040f-d32f-403c-a113-ee3d57234cec",
   "metadata": {},
   "source": [
    " "
   ]
  },
  {
   "cell_type": "markdown",
   "id": "be5c9378-91d0-42aa-b159-417df4b7992d",
   "metadata": {},
   "source": [
    "## Marketing Subinitiative (Product)"
   ]
  },
  {
   "cell_type": "code",
   "execution_count": null,
   "id": "12a29d40-4e33-4e43-a657-1ebdd8751892",
   "metadata": {},
   "outputs": [],
   "source": [
    "df[df['marketing_subinitiative']== 'X-UNKNOWN-X'].shape"
   ]
  },
  {
   "cell_type": "code",
   "execution_count": null,
   "id": "2917b302-d7e0-4c86-91a1-a9511e84e0f9",
   "metadata": {},
   "outputs": [],
   "source": [
    "#what do normal values look like\n",
    "df.value_counts('marketing_subinitiative')"
   ]
  },
  {
   "cell_type": "code",
   "execution_count": null,
   "id": "cc391044-c349-46f2-9770-ac7ada4c625e",
   "metadata": {},
   "outputs": [],
   "source": [
    "df['marketing_subinitiative'].value_counts(normalize = True)"
   ]
  },
  {
   "cell_type": "code",
   "execution_count": null,
   "id": "9a17c2be-e667-4103-899f-a2cc3035ce0e",
   "metadata": {},
   "outputs": [],
   "source": [
    "df[df['marketing_subinitiative']== 'X-UNKNOWN-X'].value_counts('channel')"
   ]
  },
  {
   "cell_type": "code",
   "execution_count": null,
   "id": "f0b47229-6517-4a79-b91a-df0e8f9ef233",
   "metadata": {},
   "outputs": [],
   "source": [
    "unknown_mkt_subinit_df = df.loc[(df['marketing_subinitiative'] == 'X-UNKNOWN-X') & \n",
    "       (df['channel'] == 'X-UNKNOWN-X')]\n",
    "unknown_mkt_subinit_df.value_counts('campaign')"
   ]
  },
  {
   "cell_type": "code",
   "execution_count": null,
   "id": "7ce300e5-0e9a-43d4-9afd-ec6a216839d8",
   "metadata": {},
   "outputs": [],
   "source": [
    "paid_search_mkt_subinit_df = df.loc[(df['marketing_subinitiative'] == 'X-UNKNOWN-X') & \n",
    "       (df['channel'] == 'Paid Search')]\n",
    "paid_search_mkt_subinit_df.value_counts('campaign')"
   ]
  },
  {
   "cell_type": "code",
   "execution_count": null,
   "id": "f21408f7-9ff7-42a1-90b9-9fb51e3bee54",
   "metadata": {},
   "outputs": [],
   "source": [
    "social_mkt_subinit_df = df.loc[(df['marketing_subinitiative'] == 'X-UNKNOWN-X') & \n",
    "       (df['channel'] == 'Social')]\n",
    "social_mkt_subinit_df.value_counts('campaign')"
   ]
  },
  {
   "cell_type": "code",
   "execution_count": null,
   "id": "7c8608c3-3735-48d8-95ab-b32864f453ae",
   "metadata": {},
   "outputs": [],
   "source": [
    "display_mkt_subinit_df = df.loc[(df['marketing_subinitiative'] == 'X-UNKNOWN-X') & \n",
    "       (df['channel'] == 'Display')]\n",
    "display_mkt_subinit_df.value_counts('campaign')"
   ]
  },
  {
   "cell_type": "code",
   "execution_count": null,
   "id": "bc9ee65c-d1f3-4911-862a-0ed8eb1819c4",
   "metadata": {},
   "outputs": [],
   "source": [
    "native_mkt_subinit_df = df.loc[(df['marketing_subinitiative'] == 'X-UNKNOWN-X') & \n",
    "       (df['channel'] == 'Native')]\n",
    "native_mkt_subinit_df.value_counts('campaign')"
   ]
  },
  {
   "cell_type": "markdown",
   "id": "c723b29f-d16f-4225-80ce-7c879a72927d",
   "metadata": {},
   "source": [
    " "
   ]
  },
  {
   "cell_type": "markdown",
   "id": "3cbbd426-035e-4b02-b505-49ed68798090",
   "metadata": {},
   "source": [
    "## Channel"
   ]
  },
  {
   "cell_type": "markdown",
   "id": "524f523f-2b82-4d8b-aa7f-93a108f9c390",
   "metadata": {},
   "source": [
    "**Look at unknowns -> meta data?**"
   ]
  },
  {
   "cell_type": "code",
   "execution_count": null,
   "id": "c6ebbdbc-6978-45d4-8ba4-2942e18f936b",
   "metadata": {},
   "outputs": [],
   "source": [
    "df['channel'].value_counts()"
   ]
  },
  {
   "cell_type": "code",
   "execution_count": null,
   "id": "a3477d91-7e4e-4f7c-a698-d89644938be4",
   "metadata": {},
   "outputs": [],
   "source": [
    "df['channel'].value_counts(normalize = True)"
   ]
  },
  {
   "cell_type": "code",
   "execution_count": null,
   "id": "a104fa54-e796-4807-b89e-e094520913a1",
   "metadata": {},
   "outputs": [],
   "source": [
    "df[df['channel']== 'X-UNKNOWN-X'].shape"
   ]
  },
  {
   "cell_type": "code",
   "execution_count": null,
   "id": "832231fb-aad3-43f2-a22d-c5802b8843f6",
   "metadata": {},
   "outputs": [],
   "source": [
    "#marketing init, subinit, OR segment are unknown \n",
    "unknown_or_df = df.loc[(df['channel'] == 'X-UNKNOWN-X') & \n",
    "       (\n",
    "          (df['marketing_initiative'] == 'X-UNKNOWN-X') | \n",
    "          (df['marketing_subinitiative'] == 'X-UNKNOWN-X') | \n",
    "          (df['marketing_segment'] == 'X-UNKNOWN-X')\n",
    "       )]\n",
    "unknown_or_df.shape"
   ]
  },
  {
   "cell_type": "code",
   "execution_count": null,
   "id": "08fcde37-0ee0-4020-8559-d8c9470bd5b9",
   "metadata": {},
   "outputs": [],
   "source": [
    "#all are unknown \n",
    "unknown_and_df = df.loc[(df['channel'] == 'X-UNKNOWN-X') & \n",
    "          (df['marketing_initiative'] == 'X-UNKNOWN-X') & \n",
    "          (df['marketing_subinitiative'] == 'X-UNKNOWN-X') &\n",
    "          (df['marketing_segment'] == 'X-UNKNOWN-X')]\n",
    "unknown_and_df.shape"
   ]
  },
  {
   "cell_type": "code",
   "execution_count": null,
   "id": "2b5ec782-1077-4bd0-82e3-251daa3c6e27",
   "metadata": {},
   "outputs": [],
   "source": [
    "#only mkt segment unknown\n",
    "unknown_channel_mkt_segment_df = df.loc[(df['channel'] == 'X-UNKNOWN-X') & \n",
    "       (df['marketing_segment'] == 'X-UNKNOWN-X')]\n",
    "unknown_channel_mkt_segment_df.shape"
   ]
  },
  {
   "cell_type": "code",
   "execution_count": null,
   "id": "b8051744-db37-426f-8adb-cea042883222",
   "metadata": {},
   "outputs": [],
   "source": [
    "#only mkt initiative unknown\n",
    "unknown_channel_mkt_init_df = df.loc[(df['channel'] == 'X-UNKNOWN-X') & \n",
    "       (df['marketing_initiative'] == 'X-UNKNOWN-X')]\n",
    "unknown_channel_mkt_init_df.shape"
   ]
  },
  {
   "cell_type": "code",
   "execution_count": null,
   "id": "3aa6cb06-d648-456a-b0c1-5f25421f9ee2",
   "metadata": {},
   "outputs": [],
   "source": [
    "#only mkt subinitiative unknown\n",
    "unknown_channel_mkt_subinit_df = df.loc[(df['channel'] == 'X-UNKNOWN-X') & \n",
    "       (df['marketing_subinitiative'] == 'X-UNKNOWN-X')]\n",
    "unknown_channel_mkt_subinit_df.shape"
   ]
  },
  {
   "cell_type": "code",
   "execution_count": null,
   "id": "8dd7a312-7198-45e8-9568-c3a0f7d3d501",
   "metadata": {},
   "outputs": [],
   "source": [
    "unknown_mkt_init_and_subinit_df = df.loc[(df['channel'] == 'X-UNKNOWN-X') & \n",
    "          (df['marketing_initiative'] == 'X-UNKNOWN-X') & \n",
    "          (df['marketing_subinitiative'] == 'X-UNKNOWN-X')]\n",
    "unknown_mkt_init_and_subinit_df.shape"
   ]
  },
  {
   "cell_type": "code",
   "execution_count": null,
   "id": "416883fd-9856-4eaa-b0ef-39ed2e2e6aa6",
   "metadata": {},
   "outputs": [],
   "source": [
    "unknown_mkt_segment_and_init_df = df.loc[(df['channel'] == 'X-UNKNOWN-X') & \n",
    "          (df['marketing_segment'] == 'X-UNKNOWN-X') & \n",
    "          (df['marketing_initiative'] == 'X-UNKNOWN-X')]\n",
    "unknown_mkt_segment_and_init_df.shape"
   ]
  },
  {
   "cell_type": "code",
   "execution_count": null,
   "id": "9b0be8ad-acea-404a-be0d-9c8ef3189711",
   "metadata": {},
   "outputs": [],
   "source": [
    "#only clickthrough conversions recorded \n",
    "unknown_channel_df = df[df['channel']== 'X-UNKNOWN-X']\n",
    "unknown_channel_df[['channel','all_conversions_ct','all_conversions_vt','total_conversions']].sum()"
   ]
  },
  {
   "cell_type": "code",
   "execution_count": null,
   "id": "c572c2a0-0fd8-4cbc-a30d-86c2d60a1003",
   "metadata": {},
   "outputs": [],
   "source": [
    "#show the clickthrough conversions\n",
    "#could relabel these as Paid Search???\n",
    "unknown_channel_df[unknown_channel_df['all_conversions_ct'] > 0]"
   ]
  },
  {
   "cell_type": "markdown",
   "id": "cbff746c-a3cf-49e1-9207-0aa9c477e83f",
   "metadata": {},
   "source": [
    "## Platform"
   ]
  },
  {
   "cell_type": "code",
   "execution_count": null,
   "id": "10d196fd-238d-4ef2-9c1e-b1354b6d1f69",
   "metadata": {},
   "outputs": [],
   "source": [
    "df['platform'].value_counts()"
   ]
  },
  {
   "cell_type": "code",
   "execution_count": null,
   "id": "3ae403de-2292-4ae8-aa1b-0baf1817897b",
   "metadata": {},
   "outputs": [],
   "source": [
    "df['platform'].value_counts(normalize = True)"
   ]
  },
  {
   "cell_type": "code",
   "execution_count": null,
   "id": "ebdf1404-9ba6-4bcb-84b3-76211da9fa62",
   "metadata": {},
   "outputs": [],
   "source": [
    "df[df['platform'] == 'X-UNKNOWN-X']"
   ]
  },
  {
   "cell_type": "markdown",
   "id": "37619ebe-d33f-4712-9851-783b65e86d0c",
   "metadata": {},
   "source": [
    "## Site"
   ]
  },
  {
   "cell_type": "code",
   "execution_count": null,
   "id": "733f735a-a586-4aca-965e-0a202e296305",
   "metadata": {},
   "outputs": [],
   "source": [
    "df['site'].value_counts()"
   ]
  },
  {
   "cell_type": "code",
   "execution_count": null,
   "id": "963f3f4e-2f0b-40ab-8927-7858908426d0",
   "metadata": {},
   "outputs": [],
   "source": [
    "df[df['site'] == 'X-UNKNOWN-X']"
   ]
  },
  {
   "cell_type": "markdown",
   "id": "6d13d251-15cf-4a57-a636-7c1c2d59728d",
   "metadata": {},
   "source": [
    "# 0.5 Miscellaneous"
   ]
  },
  {
   "cell_type": "code",
   "execution_count": null,
   "id": "5dce9df8-b12e-41b7-8197-1167ff47e1dd",
   "metadata": {},
   "outputs": [],
   "source": [
    "# no longer using\n",
    "unknown_data = {\n",
    "    'account': [34],\n",
    "    'campaign': [34],\n",
    "    '_match': [34],\n",
    "    'campaign_objective': [113623],\n",
    "    'date': [0],\n",
    "    'marketing_initiative': [47690],\n",
    "    'marketing_segment': [146257],\n",
    "    'marketing_subinitiative': [54373],\n",
    "    'channel': [67093],\n",
    "    'platform': [100]\n",
    "}"
   ]
  },
  {
   "cell_type": "code",
   "execution_count": null,
   "id": "c60f135d-0ea7-4a03-a69b-2a11cb274afc",
   "metadata": {},
   "outputs": [],
   "source": [
    "# no longer using \n",
    "zero_data = {\n",
    "    'spend': [287886],\n",
    "    'clicks': [455041],\n",
    "    'impressions': [257788],\n",
    "    'digi_ada_conversions_ct': [848358],\n",
    "    'games_conversions_ct': [866122],\n",
    "    'edu_conversions_ct': [869552],\n",
    "    'hd_conversions_ct': [863469], \n",
    "    'ck_conversions_ct': [866666],\n",
    "    'core_conversions_ct': [839002],\n",
    "    'all_conversions_ct': [837180],\n",
    "    'digi_ada_conversions_vt': [743328],\n",
    "    'games_conversions_vt': [850975],\n",
    "    'edu_conversions_vt': [858446],\n",
    "    'hd_conversions_vt': [853454],\n",
    "    'ck_conversions_vt': [837689],\n",
    "    'core_conversions_vt': [711931],\n",
    "    'all_conversions_vt': [699470]   \n",
    "}"
   ]
  },
  {
   "cell_type": "code",
   "execution_count": null,
   "id": "1468fb6b-4bfd-4170-a37e-97b923b6db62",
   "metadata": {},
   "outputs": [],
   "source": [
    "#Site traffic\n",
    "df['site'].value_counts()"
   ]
  },
  {
   "cell_type": "code",
   "execution_count": null,
   "id": "ecbe81ee-9f85-469d-8138-bf9725acdfdc",
   "metadata": {},
   "outputs": [],
   "source": [
    "df[df['site'] == 'DBM_US'].value_counts('channel')"
   ]
  },
  {
   "cell_type": "code",
   "execution_count": null,
   "id": "a528776a-aa0e-48c7-96eb-b207877dacf6",
   "metadata": {},
   "outputs": [],
   "source": []
  },
  {
   "cell_type": "code",
   "execution_count": null,
   "id": "a96eb9f9-7028-41f8-9286-aaebe39314b3",
   "metadata": {},
   "outputs": [],
   "source": [
    "# low volume vs high volume channels\n",
    "df[df['channel'] == 'Video'][['all_conversions_vt', 'all_conversions_ct','total_conversions']].sum()"
   ]
  },
  {
   "cell_type": "code",
   "execution_count": null,
   "id": "9beeca04-6fb0-4bb7-90c6-b911602d7c55",
   "metadata": {},
   "outputs": [],
   "source": [
    "df[df['channel'] == 'Video'].head(15)"
   ]
  },
  {
   "cell_type": "markdown",
   "id": "ea6f71f5-ba7f-480d-b2d6-0ad18ceeeca3",
   "metadata": {},
   "source": [
    "# 0.6 Investigate why cooking has no paid search"
   ]
  },
  {
   "cell_type": "markdown",
   "id": "ee812a09-d133-41c6-ba9a-9cf905c947cd",
   "metadata": {},
   "source": [
    "## Switch to _vw table fixed it"
   ]
  },
  {
   "cell_type": "code",
   "execution_count": null,
   "id": "30c3148d-c0cc-44ff-9993-b26f2af63c18",
   "metadata": {},
   "outputs": [],
   "source": [
    "ck_df = df[df['marketing_subinitiative']== 'Cooking']"
   ]
  },
  {
   "cell_type": "code",
   "execution_count": null,
   "id": "1a641633-d3f8-4728-9838-bfc9bdedaa32",
   "metadata": {},
   "outputs": [],
   "source": [
    "ck_df.head()"
   ]
  },
  {
   "cell_type": "code",
   "execution_count": null,
   "id": "e3e840f1-cc60-4920-9664-8fedbeb8adfd",
   "metadata": {},
   "outputs": [],
   "source": [
    "ck_df['channel'].value_counts()"
   ]
  },
  {
   "cell_type": "code",
   "execution_count": null,
   "id": "d1a178eb-2945-4c04-810e-88d5ac9a3b24",
   "metadata": {},
   "outputs": [],
   "source": [
    "paid_search_ck_df = ck_df[ck_df['channel'] == 'Paid Search']"
   ]
  },
  {
   "cell_type": "code",
   "execution_count": null,
   "id": "7d5fcb1c-f59c-4568-baf3-45941cbafacd",
   "metadata": {},
   "outputs": [],
   "source": [
    "paid_search_ck_df.shape"
   ]
  },
  {
   "cell_type": "code",
   "execution_count": null,
   "id": "11a7ba82-02a4-47c5-9718-82f2d586f16f",
   "metadata": {},
   "outputs": [],
   "source": [
    "paid_search_ck_df.head()"
   ]
  },
  {
   "cell_type": "code",
   "execution_count": null,
   "id": "a972bd73-a405-4e5c-82aa-e5ef6a41e5e3",
   "metadata": {},
   "outputs": [],
   "source": [
    "# #drop cols you don't want in solution attempt\n",
    "# df_copy = df_copy.drop(['account','campaign','_match','campaign_objective','Month','Quarter','week','week_start','date','marketing_initiative',\n",
    "#               'marketing_segment','platform',\n",
    "#              'digi_ada_conversions_ct','games_conversions_ct','edu_conversions_ct','hd_conversions_ct','ck_conversions_ct','core_conversions_ct',\n",
    "#              'digi_ada_conversions_vt','games_conversions_vt','edu_conversions_vt','hd_conversions_vt','ck_conversions_vt','core_conversions_vt',\n",
    "#              'year_week_monday','channel_mkt_init'], axis=1)\n",
    "# df_copy.reset_index(inplace = True)"
   ]
  }
 ],
 "metadata": {
  "kernelspec": {
   "display_name": "Python 3",
   "language": "python",
   "name": "python3"
  },
  "language_info": {
   "codemirror_mode": {
    "name": "ipython",
    "version": 3
   },
   "file_extension": ".py",
   "mimetype": "text/x-python",
   "name": "python",
   "nbconvert_exporter": "python",
   "pygments_lexer": "ipython3",
   "version": "3.8.2"
  }
 },
 "nbformat": 4,
 "nbformat_minor": 5
}
